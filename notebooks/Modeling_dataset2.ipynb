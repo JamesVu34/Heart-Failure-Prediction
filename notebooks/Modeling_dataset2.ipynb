{
 "cells": [
  {
   "cell_type": "code",
   "execution_count": 81,
   "id": "ee7ce6cf",
   "metadata": {},
   "outputs": [],
   "source": [
    "import pandas as pd\n",
    "from sklearn.model_selection import train_test_split, KFold, StratifiedKFold\n",
    "from sklearn.linear_model import LogisticRegression\n",
    "from sklearn.metrics import classification_report, accuracy_score, roc_auc_score, log_loss\n",
    "import plotly.express as px\n",
    "import numpy as np\n",
    "import optuna\n",
    "import matplotlib.pyplot as plt"
   ]
  },
  {
   "cell_type": "markdown",
   "id": "284352ae",
   "metadata": {},
   "source": [
    "# Dataset 2 Modeling"
   ]
  },
  {
   "cell_type": "code",
   "execution_count": 16,
   "id": "9b5488c9",
   "metadata": {},
   "outputs": [
    {
     "name": "stdout",
     "output_type": "stream",
     "text": [
      "<class 'pandas.core.frame.DataFrame'>\n",
      "RangeIndex: 299 entries, 0 to 298\n",
      "Data columns (total 13 columns):\n",
      " #   Column                    Non-Null Count  Dtype  \n",
      "---  ------                    --------------  -----  \n",
      " 0   age                       299 non-null    float64\n",
      " 1   amaemia                   299 non-null    int64  \n",
      " 2   creatinine_phosphokinase  299 non-null    float64\n",
      " 3   diabetes                  299 non-null    int64  \n",
      " 4   ejection_fraction         299 non-null    float64\n",
      " 5   hypertension              299 non-null    int64  \n",
      " 6   platelet_count            299 non-null    float64\n",
      " 7   serum_creatinine          299 non-null    float64\n",
      " 8   serum_sodium              299 non-null    float64\n",
      " 9   sex                       299 non-null    int64  \n",
      " 10  smoking                   299 non-null    int64  \n",
      " 11  time                      299 non-null    float64\n",
      " 12  HeartDisease              299 non-null    int64  \n",
      "dtypes: float64(7), int64(6)\n",
      "memory usage: 30.5 KB\n"
     ]
    },
    {
     "data": {
      "text/plain": [
       "(299, 13)"
      ]
     },
     "metadata": {},
     "output_type": "display_data"
    },
    {
     "data": {
      "text/html": [
       "<div>\n",
       "<style scoped>\n",
       "    .dataframe tbody tr th:only-of-type {\n",
       "        vertical-align: middle;\n",
       "    }\n",
       "\n",
       "    .dataframe tbody tr th {\n",
       "        vertical-align: top;\n",
       "    }\n",
       "\n",
       "    .dataframe thead th {\n",
       "        text-align: right;\n",
       "    }\n",
       "</style>\n",
       "<table border=\"1\" class=\"dataframe\">\n",
       "  <thead>\n",
       "    <tr style=\"text-align: right;\">\n",
       "      <th></th>\n",
       "      <th>age</th>\n",
       "      <th>amaemia</th>\n",
       "      <th>creatinine_phosphokinase</th>\n",
       "      <th>diabetes</th>\n",
       "      <th>ejection_fraction</th>\n",
       "      <th>hypertension</th>\n",
       "      <th>platelet_count</th>\n",
       "      <th>serum_creatinine</th>\n",
       "      <th>serum_sodium</th>\n",
       "      <th>sex</th>\n",
       "      <th>smoking</th>\n",
       "      <th>time</th>\n",
       "      <th>HeartDisease</th>\n",
       "    </tr>\n",
       "  </thead>\n",
       "  <tbody>\n",
       "    <tr>\n",
       "      <th>0</th>\n",
       "      <td>1.192945</td>\n",
       "      <td>0</td>\n",
       "      <td>0.000166</td>\n",
       "      <td>0</td>\n",
       "      <td>-1.530560</td>\n",
       "      <td>1</td>\n",
       "      <td>1.681648e-02</td>\n",
       "      <td>0.490057</td>\n",
       "      <td>-1.504036</td>\n",
       "      <td>1</td>\n",
       "      <td>0</td>\n",
       "      <td>-1.629502</td>\n",
       "      <td>1</td>\n",
       "    </tr>\n",
       "    <tr>\n",
       "      <th>1</th>\n",
       "      <td>-0.491279</td>\n",
       "      <td>0</td>\n",
       "      <td>7.514640</td>\n",
       "      <td>0</td>\n",
       "      <td>-0.007077</td>\n",
       "      <td>0</td>\n",
       "      <td>7.535660e-09</td>\n",
       "      <td>-0.284552</td>\n",
       "      <td>-0.141976</td>\n",
       "      <td>1</td>\n",
       "      <td>0</td>\n",
       "      <td>-1.603691</td>\n",
       "      <td>1</td>\n",
       "    </tr>\n",
       "    <tr>\n",
       "      <th>2</th>\n",
       "      <td>0.350833</td>\n",
       "      <td>0</td>\n",
       "      <td>-0.449939</td>\n",
       "      <td>0</td>\n",
       "      <td>-1.530560</td>\n",
       "      <td>0</td>\n",
       "      <td>-1.038073e+00</td>\n",
       "      <td>-0.090900</td>\n",
       "      <td>-1.731046</td>\n",
       "      <td>1</td>\n",
       "      <td>1</td>\n",
       "      <td>-1.590785</td>\n",
       "      <td>1</td>\n",
       "    </tr>\n",
       "    <tr>\n",
       "      <th>3</th>\n",
       "      <td>-0.912335</td>\n",
       "      <td>1</td>\n",
       "      <td>-0.486071</td>\n",
       "      <td>0</td>\n",
       "      <td>-1.530560</td>\n",
       "      <td>0</td>\n",
       "      <td>-5.464741e-01</td>\n",
       "      <td>0.490057</td>\n",
       "      <td>0.085034</td>\n",
       "      <td>1</td>\n",
       "      <td>0</td>\n",
       "      <td>-1.590785</td>\n",
       "      <td>1</td>\n",
       "    </tr>\n",
       "    <tr>\n",
       "      <th>4</th>\n",
       "      <td>0.350833</td>\n",
       "      <td>1</td>\n",
       "      <td>-0.435486</td>\n",
       "      <td>1</td>\n",
       "      <td>-1.530560</td>\n",
       "      <td>0</td>\n",
       "      <td>6.517986e-01</td>\n",
       "      <td>1.264666</td>\n",
       "      <td>-4.682176</td>\n",
       "      <td>0</td>\n",
       "      <td>0</td>\n",
       "      <td>-1.577879</td>\n",
       "      <td>1</td>\n",
       "    </tr>\n",
       "  </tbody>\n",
       "</table>\n",
       "</div>"
      ],
      "text/plain": [
       "        age  amaemia  creatinine_phosphokinase  diabetes  ejection_fraction  \\\n",
       "0  1.192945        0                  0.000166         0          -1.530560   \n",
       "1 -0.491279        0                  7.514640         0          -0.007077   \n",
       "2  0.350833        0                 -0.449939         0          -1.530560   \n",
       "3 -0.912335        1                 -0.486071         0          -1.530560   \n",
       "4  0.350833        1                 -0.435486         1          -1.530560   \n",
       "\n",
       "   hypertension  platelet_count  serum_creatinine  serum_sodium  sex  smoking  \\\n",
       "0             1    1.681648e-02          0.490057     -1.504036    1        0   \n",
       "1             0    7.535660e-09         -0.284552     -0.141976    1        0   \n",
       "2             0   -1.038073e+00         -0.090900     -1.731046    1        1   \n",
       "3             0   -5.464741e-01          0.490057      0.085034    1        0   \n",
       "4             0    6.517986e-01          1.264666     -4.682176    0        0   \n",
       "\n",
       "       time  HeartDisease  \n",
       "0 -1.629502             1  \n",
       "1 -1.603691             1  \n",
       "2 -1.590785             1  \n",
       "3 -1.590785             1  \n",
       "4 -1.577879             1  "
      ]
     },
     "metadata": {},
     "output_type": "display_data"
    },
    {
     "data": {
      "text/plain": [
       "None"
      ]
     },
     "metadata": {},
     "output_type": "display_data"
    }
   ],
   "source": [
    "df = pd.read_csv('../data/processed/heart_dataset_2_processed.csv')\n",
    "display(df.shape, df.head(), df.info())"
   ]
  },
  {
   "cell_type": "code",
   "execution_count": 17,
   "id": "87097856",
   "metadata": {},
   "outputs": [
    {
     "data": {
      "application/vnd.plotly.v1+json": {
       "config": {
        "plotlyServerURL": "https://plot.ly"
       },
       "data": [
        {
         "coloraxis": "coloraxis",
         "hovertemplate": "x: %{x}<br>y: %{y}<br>color: %{z}<extra></extra>",
         "name": "0",
         "type": "heatmap",
         "x": [
          "age",
          "amaemia",
          "creatinine_phosphokinase",
          "diabetes",
          "ejection_fraction",
          "hypertension",
          "platelet_count",
          "serum_creatinine",
          "serum_sodium",
          "sex",
          "smoking",
          "time",
          "HeartDisease"
         ],
         "xaxis": "x",
         "y": [
          "age",
          "amaemia",
          "creatinine_phosphokinase",
          "diabetes",
          "ejection_fraction",
          "hypertension",
          "platelet_count",
          "serum_creatinine",
          "serum_sodium",
          "sex",
          "smoking",
          "time",
          "HeartDisease"
         ],
         "yaxis": "y",
         "z": {
          "bdata": "AAAAAAAA8D92200Tl4e2P4RsbrWu4rS/t/bYmvLbub9nyUFxNsWuP1STeGnE4bc/Slj1CDHOqr+zy7J1PmDEP8oxR67ViKe/hUA/QP2/sD/NjgZqqx2TPxVT7CNGrsy/IPunpBY90D92200Tl4e2PwAAAAAAAPA/Ds1buzNqyL+r/K+brxGKv5f0uzo8KKA/SygQapeMoz9JsEZAD2umv7uRwaJ/tqo/+PYQpYFxpT9QP+JTx0K4v4j4a8pYd7u/oleHdtoZwr9q8pbBE/ewP4RsbrWu4rS/Ds1buzNqyL8AAAAAAADwPwGaImhbvYO/7a2gaZiRpr/0EV5XLxKyv21LkDbuDJk/McMcbGLNkL+9G46nW32uP5li75wobbQ/JxGFv7LVYz8m9t5U0CODv3170uTzDrA/t/bYmvLbub+r/K+brxGKvwGaImhbvYO/AAAAAAAA8D/4HF0W691zv7XUK1dvE4q/Cxlm/vKZtz+Bx4sGJg2ov3FdQRXK7La/YYxf+3owxL/gSYgSlNbCv70XZUx4RKE/NUsXGwvVX79nyUFxNsWuP5f0uzo8KKA/7a2gaZiRpr/4HF0W691zvwAAAAAAAPA/4UxIJwoImT8XUeHuOHqyP/XewIPAJYe/PAtCSveDxj+XjCGyT/7Cvz6EOwmHO7G/HbBgy4hdpT/nGpXyyzDRv1STeGnE4bc/SygQapeMoz/0EV5XLxKyv7XUK1dvE4q/4UxIJwoImT8AAAAAAADwPx+hejvQlKk/XyvGfzk2dL+MRr4tAwCjP5hixTsGyLq/gH7UVTOGrL9Dl9PI7STJv3Lkr9VZULQ/Slj1CDHOqr9JsEZAD2umv21LkDbuDJk/Cxlm/vKZtz8XUeHuOHqyPx+hejvQlKk/AAAAAAAA8D9ojbYT6helvweSz0/Mzq8/WtLcrvIDwL8HCTe2femcP3KbIPpQiIU/slfgzbooqb+zy7J1PmDEP7uRwaJ/tqo/McMcbGLNkL+Bx4sGJg2ov/XewIPAJYe/XyvGfzk2dL9ojbYT6helvwAAAAAAAPA/3v6Vl0U0yL/d9VOqV4x8PynqxXxzEpy/RhWfgcQcw7+H6BeNcdXSP8oxR67ViKe/+PYQpYFxpT+9G46nW32uP3FdQRXK7La/PAtCSveDxj+MRr4tAwCjPweSz0/Mzq8/3v6Vl0U0yL8AAAAAAADwP42VYS5LOpy/krOjGgC3cz806JA2k2+2P13DVXNu/Mi/hUA/QP2/sD9QP+JTx0K4v5li75wobbQ/YYxf+3owxL+XjCGyT/7Cv5hixTsGyLq/WtLcrvIDwL/d9VOqV4x8P42VYS5LOpy/AAAAAAAA8D+0cA1kfYncP2f/seAz94+/7u0Vcgyucb/NjgZqqx2TP4j4a8pYd7u/JxGFv7LVYz/gSYgSlNbCvz6EOwmHO7G/gH7UVTOGrL8HCTe2femcPynqxXxzEpy/krOjGgC3cz+0cA1kfYncPwAAAAAAAPA/ag+Oexdjl7/QD3ngKtqJvxVT7CNGrsy/oleHdtoZwr8m9t5U0CODv70XZUx4RKE/HbBgy4hdpT9Dl9PI7STJv3KbIPpQiIU/RhWfgcQcw7806JA2k2+2P2f/seAz94+/ag+Oexdjl78AAAAAAADwP2iPxSTj3OC/IPunpBY90D9q8pbBE/ewP3170uTzDrA/NUsXGwvVX7/nGpXyyzDRv3Lkr9VZULQ/slfgzbooqb+H6BeNcdXSP13DVXNu/Mi/7u0Vcgyucb/QD3ngKtqJv2iPxSTj3OC/AAAAAAAA8D8=",
          "dtype": "f8",
          "shape": "13, 13"
         }
        }
       ],
       "layout": {
        "coloraxis": {
         "colorscale": [
          [
           0,
           "#0d0887"
          ],
          [
           0.1111111111111111,
           "#46039f"
          ],
          [
           0.2222222222222222,
           "#7201a8"
          ],
          [
           0.3333333333333333,
           "#9c179e"
          ],
          [
           0.4444444444444444,
           "#bd3786"
          ],
          [
           0.5555555555555556,
           "#d8576b"
          ],
          [
           0.6666666666666666,
           "#ed7953"
          ],
          [
           0.7777777777777778,
           "#fb9f3a"
          ],
          [
           0.8888888888888888,
           "#fdca26"
          ],
          [
           1,
           "#f0f921"
          ]
         ]
        },
        "template": {
         "data": {
          "bar": [
           {
            "error_x": {
             "color": "#2a3f5f"
            },
            "error_y": {
             "color": "#2a3f5f"
            },
            "marker": {
             "line": {
              "color": "#E5ECF6",
              "width": 0.5
             },
             "pattern": {
              "fillmode": "overlay",
              "size": 10,
              "solidity": 0.2
             }
            },
            "type": "bar"
           }
          ],
          "barpolar": [
           {
            "marker": {
             "line": {
              "color": "#E5ECF6",
              "width": 0.5
             },
             "pattern": {
              "fillmode": "overlay",
              "size": 10,
              "solidity": 0.2
             }
            },
            "type": "barpolar"
           }
          ],
          "carpet": [
           {
            "aaxis": {
             "endlinecolor": "#2a3f5f",
             "gridcolor": "white",
             "linecolor": "white",
             "minorgridcolor": "white",
             "startlinecolor": "#2a3f5f"
            },
            "baxis": {
             "endlinecolor": "#2a3f5f",
             "gridcolor": "white",
             "linecolor": "white",
             "minorgridcolor": "white",
             "startlinecolor": "#2a3f5f"
            },
            "type": "carpet"
           }
          ],
          "choropleth": [
           {
            "colorbar": {
             "outlinewidth": 0,
             "ticks": ""
            },
            "type": "choropleth"
           }
          ],
          "contour": [
           {
            "colorbar": {
             "outlinewidth": 0,
             "ticks": ""
            },
            "colorscale": [
             [
              0,
              "#0d0887"
             ],
             [
              0.1111111111111111,
              "#46039f"
             ],
             [
              0.2222222222222222,
              "#7201a8"
             ],
             [
              0.3333333333333333,
              "#9c179e"
             ],
             [
              0.4444444444444444,
              "#bd3786"
             ],
             [
              0.5555555555555556,
              "#d8576b"
             ],
             [
              0.6666666666666666,
              "#ed7953"
             ],
             [
              0.7777777777777778,
              "#fb9f3a"
             ],
             [
              0.8888888888888888,
              "#fdca26"
             ],
             [
              1,
              "#f0f921"
             ]
            ],
            "type": "contour"
           }
          ],
          "contourcarpet": [
           {
            "colorbar": {
             "outlinewidth": 0,
             "ticks": ""
            },
            "type": "contourcarpet"
           }
          ],
          "heatmap": [
           {
            "colorbar": {
             "outlinewidth": 0,
             "ticks": ""
            },
            "colorscale": [
             [
              0,
              "#0d0887"
             ],
             [
              0.1111111111111111,
              "#46039f"
             ],
             [
              0.2222222222222222,
              "#7201a8"
             ],
             [
              0.3333333333333333,
              "#9c179e"
             ],
             [
              0.4444444444444444,
              "#bd3786"
             ],
             [
              0.5555555555555556,
              "#d8576b"
             ],
             [
              0.6666666666666666,
              "#ed7953"
             ],
             [
              0.7777777777777778,
              "#fb9f3a"
             ],
             [
              0.8888888888888888,
              "#fdca26"
             ],
             [
              1,
              "#f0f921"
             ]
            ],
            "type": "heatmap"
           }
          ],
          "histogram": [
           {
            "marker": {
             "pattern": {
              "fillmode": "overlay",
              "size": 10,
              "solidity": 0.2
             }
            },
            "type": "histogram"
           }
          ],
          "histogram2d": [
           {
            "colorbar": {
             "outlinewidth": 0,
             "ticks": ""
            },
            "colorscale": [
             [
              0,
              "#0d0887"
             ],
             [
              0.1111111111111111,
              "#46039f"
             ],
             [
              0.2222222222222222,
              "#7201a8"
             ],
             [
              0.3333333333333333,
              "#9c179e"
             ],
             [
              0.4444444444444444,
              "#bd3786"
             ],
             [
              0.5555555555555556,
              "#d8576b"
             ],
             [
              0.6666666666666666,
              "#ed7953"
             ],
             [
              0.7777777777777778,
              "#fb9f3a"
             ],
             [
              0.8888888888888888,
              "#fdca26"
             ],
             [
              1,
              "#f0f921"
             ]
            ],
            "type": "histogram2d"
           }
          ],
          "histogram2dcontour": [
           {
            "colorbar": {
             "outlinewidth": 0,
             "ticks": ""
            },
            "colorscale": [
             [
              0,
              "#0d0887"
             ],
             [
              0.1111111111111111,
              "#46039f"
             ],
             [
              0.2222222222222222,
              "#7201a8"
             ],
             [
              0.3333333333333333,
              "#9c179e"
             ],
             [
              0.4444444444444444,
              "#bd3786"
             ],
             [
              0.5555555555555556,
              "#d8576b"
             ],
             [
              0.6666666666666666,
              "#ed7953"
             ],
             [
              0.7777777777777778,
              "#fb9f3a"
             ],
             [
              0.8888888888888888,
              "#fdca26"
             ],
             [
              1,
              "#f0f921"
             ]
            ],
            "type": "histogram2dcontour"
           }
          ],
          "mesh3d": [
           {
            "colorbar": {
             "outlinewidth": 0,
             "ticks": ""
            },
            "type": "mesh3d"
           }
          ],
          "parcoords": [
           {
            "line": {
             "colorbar": {
              "outlinewidth": 0,
              "ticks": ""
             }
            },
            "type": "parcoords"
           }
          ],
          "pie": [
           {
            "automargin": true,
            "type": "pie"
           }
          ],
          "scatter": [
           {
            "fillpattern": {
             "fillmode": "overlay",
             "size": 10,
             "solidity": 0.2
            },
            "type": "scatter"
           }
          ],
          "scatter3d": [
           {
            "line": {
             "colorbar": {
              "outlinewidth": 0,
              "ticks": ""
             }
            },
            "marker": {
             "colorbar": {
              "outlinewidth": 0,
              "ticks": ""
             }
            },
            "type": "scatter3d"
           }
          ],
          "scattercarpet": [
           {
            "marker": {
             "colorbar": {
              "outlinewidth": 0,
              "ticks": ""
             }
            },
            "type": "scattercarpet"
           }
          ],
          "scattergeo": [
           {
            "marker": {
             "colorbar": {
              "outlinewidth": 0,
              "ticks": ""
             }
            },
            "type": "scattergeo"
           }
          ],
          "scattergl": [
           {
            "marker": {
             "colorbar": {
              "outlinewidth": 0,
              "ticks": ""
             }
            },
            "type": "scattergl"
           }
          ],
          "scattermap": [
           {
            "marker": {
             "colorbar": {
              "outlinewidth": 0,
              "ticks": ""
             }
            },
            "type": "scattermap"
           }
          ],
          "scattermapbox": [
           {
            "marker": {
             "colorbar": {
              "outlinewidth": 0,
              "ticks": ""
             }
            },
            "type": "scattermapbox"
           }
          ],
          "scatterpolar": [
           {
            "marker": {
             "colorbar": {
              "outlinewidth": 0,
              "ticks": ""
             }
            },
            "type": "scatterpolar"
           }
          ],
          "scatterpolargl": [
           {
            "marker": {
             "colorbar": {
              "outlinewidth": 0,
              "ticks": ""
             }
            },
            "type": "scatterpolargl"
           }
          ],
          "scatterternary": [
           {
            "marker": {
             "colorbar": {
              "outlinewidth": 0,
              "ticks": ""
             }
            },
            "type": "scatterternary"
           }
          ],
          "surface": [
           {
            "colorbar": {
             "outlinewidth": 0,
             "ticks": ""
            },
            "colorscale": [
             [
              0,
              "#0d0887"
             ],
             [
              0.1111111111111111,
              "#46039f"
             ],
             [
              0.2222222222222222,
              "#7201a8"
             ],
             [
              0.3333333333333333,
              "#9c179e"
             ],
             [
              0.4444444444444444,
              "#bd3786"
             ],
             [
              0.5555555555555556,
              "#d8576b"
             ],
             [
              0.6666666666666666,
              "#ed7953"
             ],
             [
              0.7777777777777778,
              "#fb9f3a"
             ],
             [
              0.8888888888888888,
              "#fdca26"
             ],
             [
              1,
              "#f0f921"
             ]
            ],
            "type": "surface"
           }
          ],
          "table": [
           {
            "cells": {
             "fill": {
              "color": "#EBF0F8"
             },
             "line": {
              "color": "white"
             }
            },
            "header": {
             "fill": {
              "color": "#C8D4E3"
             },
             "line": {
              "color": "white"
             }
            },
            "type": "table"
           }
          ]
         },
         "layout": {
          "annotationdefaults": {
           "arrowcolor": "#2a3f5f",
           "arrowhead": 0,
           "arrowwidth": 1
          },
          "autotypenumbers": "strict",
          "coloraxis": {
           "colorbar": {
            "outlinewidth": 0,
            "ticks": ""
           }
          },
          "colorscale": {
           "diverging": [
            [
             0,
             "#8e0152"
            ],
            [
             0.1,
             "#c51b7d"
            ],
            [
             0.2,
             "#de77ae"
            ],
            [
             0.3,
             "#f1b6da"
            ],
            [
             0.4,
             "#fde0ef"
            ],
            [
             0.5,
             "#f7f7f7"
            ],
            [
             0.6,
             "#e6f5d0"
            ],
            [
             0.7,
             "#b8e186"
            ],
            [
             0.8,
             "#7fbc41"
            ],
            [
             0.9,
             "#4d9221"
            ],
            [
             1,
             "#276419"
            ]
           ],
           "sequential": [
            [
             0,
             "#0d0887"
            ],
            [
             0.1111111111111111,
             "#46039f"
            ],
            [
             0.2222222222222222,
             "#7201a8"
            ],
            [
             0.3333333333333333,
             "#9c179e"
            ],
            [
             0.4444444444444444,
             "#bd3786"
            ],
            [
             0.5555555555555556,
             "#d8576b"
            ],
            [
             0.6666666666666666,
             "#ed7953"
            ],
            [
             0.7777777777777778,
             "#fb9f3a"
            ],
            [
             0.8888888888888888,
             "#fdca26"
            ],
            [
             1,
             "#f0f921"
            ]
           ],
           "sequentialminus": [
            [
             0,
             "#0d0887"
            ],
            [
             0.1111111111111111,
             "#46039f"
            ],
            [
             0.2222222222222222,
             "#7201a8"
            ],
            [
             0.3333333333333333,
             "#9c179e"
            ],
            [
             0.4444444444444444,
             "#bd3786"
            ],
            [
             0.5555555555555556,
             "#d8576b"
            ],
            [
             0.6666666666666666,
             "#ed7953"
            ],
            [
             0.7777777777777778,
             "#fb9f3a"
            ],
            [
             0.8888888888888888,
             "#fdca26"
            ],
            [
             1,
             "#f0f921"
            ]
           ]
          },
          "colorway": [
           "#636efa",
           "#EF553B",
           "#00cc96",
           "#ab63fa",
           "#FFA15A",
           "#19d3f3",
           "#FF6692",
           "#B6E880",
           "#FF97FF",
           "#FECB52"
          ],
          "font": {
           "color": "#2a3f5f"
          },
          "geo": {
           "bgcolor": "white",
           "lakecolor": "white",
           "landcolor": "#E5ECF6",
           "showlakes": true,
           "showland": true,
           "subunitcolor": "white"
          },
          "hoverlabel": {
           "align": "left"
          },
          "hovermode": "closest",
          "mapbox": {
           "style": "light"
          },
          "paper_bgcolor": "white",
          "plot_bgcolor": "#E5ECF6",
          "polar": {
           "angularaxis": {
            "gridcolor": "white",
            "linecolor": "white",
            "ticks": ""
           },
           "bgcolor": "#E5ECF6",
           "radialaxis": {
            "gridcolor": "white",
            "linecolor": "white",
            "ticks": ""
           }
          },
          "scene": {
           "xaxis": {
            "backgroundcolor": "#E5ECF6",
            "gridcolor": "white",
            "gridwidth": 2,
            "linecolor": "white",
            "showbackground": true,
            "ticks": "",
            "zerolinecolor": "white"
           },
           "yaxis": {
            "backgroundcolor": "#E5ECF6",
            "gridcolor": "white",
            "gridwidth": 2,
            "linecolor": "white",
            "showbackground": true,
            "ticks": "",
            "zerolinecolor": "white"
           },
           "zaxis": {
            "backgroundcolor": "#E5ECF6",
            "gridcolor": "white",
            "gridwidth": 2,
            "linecolor": "white",
            "showbackground": true,
            "ticks": "",
            "zerolinecolor": "white"
           }
          },
          "shapedefaults": {
           "line": {
            "color": "#2a3f5f"
           }
          },
          "ternary": {
           "aaxis": {
            "gridcolor": "white",
            "linecolor": "white",
            "ticks": ""
           },
           "baxis": {
            "gridcolor": "white",
            "linecolor": "white",
            "ticks": ""
           },
           "bgcolor": "#E5ECF6",
           "caxis": {
            "gridcolor": "white",
            "linecolor": "white",
            "ticks": ""
           }
          },
          "title": {
           "x": 0.05
          },
          "xaxis": {
           "automargin": true,
           "gridcolor": "white",
           "linecolor": "white",
           "ticks": "",
           "title": {
            "standoff": 15
           },
           "zerolinecolor": "white",
           "zerolinewidth": 2
          },
          "yaxis": {
           "automargin": true,
           "gridcolor": "white",
           "linecolor": "white",
           "ticks": "",
           "title": {
            "standoff": 15
           },
           "zerolinecolor": "white",
           "zerolinewidth": 2
          }
         }
        },
        "title": {
         "text": "Correlation Plot"
        },
        "xaxis": {
         "anchor": "y",
         "constrain": "domain",
         "domain": [
          0,
          1
         ],
         "scaleanchor": "y"
        },
        "yaxis": {
         "anchor": "x",
         "autorange": "reversed",
         "constrain": "domain",
         "domain": [
          0,
          1
         ]
        }
       }
      }
     },
     "metadata": {},
     "output_type": "display_data"
    }
   ],
   "source": [
    "px.imshow(df.corr(),title=\"Correlation Plot\")"
   ]
  },
  {
   "cell_type": "markdown",
   "id": "31eb39e6",
   "metadata": {},
   "source": [
    "### Drop the `HeartDisease` column"
   ]
  },
  {
   "cell_type": "code",
   "execution_count": 21,
   "id": "116bdbbb",
   "metadata": {},
   "outputs": [],
   "source": [
    "k_folds = KFold(n_splits=5)\n",
    "X = df.drop(\"HeartDisease\", axis=1)\n",
    "y = df[\"HeartDisease\"]"
   ]
  },
  {
   "cell_type": "markdown",
   "id": "b0dc4dbe",
   "metadata": {},
   "source": [
    "### Split the dataset"
   ]
  },
  {
   "cell_type": "code",
   "execution_count": null,
   "id": "b371272d",
   "metadata": {},
   "outputs": [],
   "source": [
    "X_train, X_test, y_train, y_test = train_test_split(X, y, test_size=0.2, stratify=y)"
   ]
  },
  {
   "cell_type": "markdown",
   "id": "c8770657",
   "metadata": {},
   "source": [
    "### First start with simple Logistic Regression Model"
   ]
  },
  {
   "cell_type": "code",
   "execution_count": 27,
   "id": "d9145f12",
   "metadata": {},
   "outputs": [
    {
     "name": "stdout",
     "output_type": "stream",
     "text": [
      "\n",
      "📂 Fold 1\n",
      "              precision    recall  f1-score   support\n",
      "\n",
      "           0       0.80      1.00      0.89        32\n",
      "           1       1.00      0.50      0.67        16\n",
      "\n",
      "    accuracy                           0.83        48\n",
      "   macro avg       0.90      0.75      0.78        48\n",
      "weighted avg       0.87      0.83      0.81        48\n",
      "\n",
      "ROC AUC Score for Fold 1: 0.7500\n",
      "\n",
      "📂 Fold 2\n",
      "              precision    recall  f1-score   support\n",
      "\n",
      "           0       0.88      0.94      0.91        31\n",
      "           1       0.87      0.76      0.81        17\n",
      "\n",
      "    accuracy                           0.88        48\n",
      "   macro avg       0.87      0.85      0.86        48\n",
      "weighted avg       0.87      0.88      0.87        48\n",
      "\n",
      "ROC AUC Score for Fold 2: 0.8501\n",
      "\n",
      "📂 Fold 3\n",
      "              precision    recall  f1-score   support\n",
      "\n",
      "           0       0.81      0.81      0.81        31\n",
      "           1       0.65      0.65      0.65        17\n",
      "\n",
      "    accuracy                           0.75        48\n",
      "   macro avg       0.73      0.73      0.73        48\n",
      "weighted avg       0.75      0.75      0.75        48\n",
      "\n",
      "ROC AUC Score for Fold 3: 0.7268\n",
      "\n",
      "📂 Fold 4\n",
      "              precision    recall  f1-score   support\n",
      "\n",
      "           0       0.84      0.79      0.82        34\n",
      "           1       0.56      0.64      0.60        14\n",
      "\n",
      "    accuracy                           0.75        48\n",
      "   macro avg       0.70      0.72      0.71        48\n",
      "weighted avg       0.76      0.75      0.75        48\n",
      "\n",
      "ROC AUC Score for Fold 4: 0.7185\n",
      "\n",
      "📂 Fold 5\n",
      "              precision    recall  f1-score   support\n",
      "\n",
      "           0       0.89      0.94      0.91        34\n",
      "           1       0.82      0.69      0.75        13\n",
      "\n",
      "    accuracy                           0.87        47\n",
      "   macro avg       0.85      0.82      0.83        47\n",
      "weighted avg       0.87      0.87      0.87        47\n",
      "\n",
      "ROC AUC Score for Fold 5: 0.8167\n",
      "\n",
      "Cross-Validation Summary:\n",
      "Mean ROC AUC: 0.7724\n",
      "Standard Deviation: 0.0520\n"
     ]
    }
   ],
   "source": [
    "accuracy_log = []\n",
    "for fold, (train_index, test_index) in enumerate(k_folds.split(X_train, y_train)):\n",
    "    classifier = LogisticRegression(max_iter=1000, random_state=42)\n",
    "    classifier.fit(X_train.iloc[train_index], y_train.iloc[train_index])\n",
    "\n",
    "    X_valid = X_train.iloc[test_index]\n",
    "    y_valid = y_train.iloc[test_index]\n",
    "    y_pred = classifier.predict(X_valid)\n",
    "\n",
    "    print(f\"\\n📂 Fold {fold + 1}\")\n",
    "    print(classification_report(y_valid, y_pred))\n",
    "\n",
    "    acc = roc_auc_score(y_valid, y_pred)\n",
    "    accuracy_log.append(acc)\n",
    "    print(f\"ROC AUC Score for Fold {fold + 1}: {acc:.4f}\")\n",
    "\n",
    "print(\"\\nCross-Validation Summary:\")\n",
    "print(f\"Mean ROC AUC: {np.mean(accuracy_log):.4f}\")\n",
    "print(f\"Standard Deviation: {np.std(accuracy_log):.4f}\")"
   ]
  },
  {
   "cell_type": "markdown",
   "id": "f4cd23f9",
   "metadata": {},
   "source": [
    "### Tune Logistic Regression model using Optuna"
   ]
  },
  {
   "cell_type": "code",
   "execution_count": 73,
   "id": "b3b5d7a6",
   "metadata": {},
   "outputs": [],
   "source": [
    "X_train, X_holdout, y_train, y_holdout = train_test_split(X, y, test_size=0.2, stratify=y, random_state=42)\n",
    "def objective_accuracy(trial,X,y):\n",
    "    C = trial.suggest_float(\"C\",1e-3,10,log=True)\n",
    "    accuracy_log = np.array([])\n",
    "    for fold, (train_index, test_index) in enumerate(k_folds.split(X_train)):\n",
    "        classifier = LogisticRegression(C=C)\n",
    "        classifier.fit(X_train.iloc[train_index],y_train.iloc[train_index])\n",
    "        X_valid = X_train.iloc[test_index]\n",
    "        y_pred=classifier.predict(X_valid)\n",
    "        y_valid = y_train.iloc[test_index]\n",
    "        acc=roc_auc_score(y_valid,y_pred)\n",
    "        accuracy_log = np.append(accuracy_log,acc)\n",
    "    return np.mean(accuracy_log)"
   ]
  },
  {
   "cell_type": "code",
   "execution_count": 74,
   "id": "1b9fa455",
   "metadata": {},
   "outputs": [
    {
     "name": "stdout",
     "output_type": "stream",
     "text": [
      "numbers of the finished trials: 50\n",
      "the best params: {'C': 0.2579364203258358}\n",
      "the best accuracy: 0.8050097125097124\n"
     ]
    }
   ],
   "source": [
    "study_name = 'accuracy_dataset2'\n",
    "storage_name_db = \"sqlite:///../optuna_database/\"+study_name+\".db\"\n",
    "optuna.logging.set_verbosity(optuna.logging.WARNING)\n",
    "study = optuna.create_study(direction='maximize',study_name=study_name,load_if_exists=True,storage=storage_name_db)\n",
    "study.optimize(lambda trial: objective_accuracy(trial, X_train, y_train), n_trials = 50)\n",
    "print('numbers of the finished trials:' , len(study.trials))\n",
    "print('the best params:' , study.best_trial.params)\n",
    "print('the best accuracy:' , study.best_value)"
   ]
  },
  {
   "cell_type": "code",
   "execution_count": 75,
   "id": "fce4bada",
   "metadata": {},
   "outputs": [],
   "source": [
    "def objective_l1(trial,X,y):\n",
    "    X_train,X_test,y_train,y_test=train_test_split(X,y,test_size=0.2)\n",
    "    C = trial.suggest_float(\"C\",1e-3,10,log=True)\n",
    "    l1_log = np.array([])\n",
    "    for fold, (train_index, test_index) in enumerate(k_folds.split(X_train)):\n",
    "        classifier = LogisticRegression(C=C)\n",
    "        classifier.fit(X_train.iloc[train_index],y_train.iloc[train_index])\n",
    "        X_valid = X_train.iloc[test_index]\n",
    "        y_pred=classifier.predict_proba(X_valid)\n",
    "        y_valid = y_train.iloc[test_index]\n",
    "        l1 = log_loss(y_valid,y_pred)\n",
    "        l1_log = np.append(l1_log,l1)\n",
    "        # acc=roc_auc_score(y_valid,y_pred)\n",
    "        # accuracy_log = np.append(accuracy_log,acc)\n",
    "    return np.mean(l1_log)"
   ]
  },
  {
   "cell_type": "code",
   "execution_count": 76,
   "id": "b1e35207",
   "metadata": {},
   "outputs": [
    {
     "name": "stdout",
     "output_type": "stream",
     "text": [
      "numbers of the finished trials: 50\n",
      "the best params: {'C': 0.23958567520972715}\n",
      "the best l1: 0.3685440823461436\n"
     ]
    }
   ],
   "source": [
    "study_name = 'l1_dataset2'\n",
    "storage_name_db = \"sqlite:///../optuna_database/\"+study_name+\".db\"\n",
    "study = optuna.create_study(direction='minimize',study_name=study_name,load_if_exists=True,storage=storage_name_db)\n",
    "study.optimize(lambda trial: objective_l1(trial, X_train, y_train), n_trials = 50)\n",
    "print('numbers of the finished trials:' , len(study.trials))\n",
    "print('the best params:' , study.best_trial.params)\n",
    "print('the best l1:' , study.best_value)"
   ]
  },
  {
   "cell_type": "code",
   "execution_count": 77,
   "id": "f64e4674",
   "metadata": {},
   "outputs": [],
   "source": [
    "study_number = 0 ######## Edit this number to switch between studies\n",
    "study_name_set = [\"accuracy_dataset2\",\"l1_dataset2\"]\n",
    "storage_name_set_db = \"sqlite:///../optuna_database/\"+study_name_set[study_number]+\".db\"\n",
    "study_plot = optuna.load_study(study_name = study_name_set[study_number], storage=storage_name_set_db)"
   ]
  },
  {
   "cell_type": "code",
   "execution_count": 78,
   "id": "77fb18f6",
   "metadata": {},
   "outputs": [],
   "source": [
    "dataframe = study_plot.trials_dataframe()\n",
    "if(study_number == 0):\n",
    "    accuracy = dataframe['value']\n",
    "elif(study_number == 1):\n",
    "    l1 = dataframe['value']\n",
    "C = dataframe['params_C']\n",
    "trial_number = dataframe['number']"
   ]
  },
  {
   "cell_type": "code",
   "execution_count": 79,
   "id": "83d6be28",
   "metadata": {},
   "outputs": [
    {
     "data": {
      "text/html": [
       "<div>\n",
       "<style scoped>\n",
       "    .dataframe tbody tr th:only-of-type {\n",
       "        vertical-align: middle;\n",
       "    }\n",
       "\n",
       "    .dataframe tbody tr th {\n",
       "        vertical-align: top;\n",
       "    }\n",
       "\n",
       "    .dataframe thead th {\n",
       "        text-align: right;\n",
       "    }\n",
       "</style>\n",
       "<table border=\"1\" class=\"dataframe\">\n",
       "  <thead>\n",
       "    <tr style=\"text-align: right;\">\n",
       "      <th></th>\n",
       "      <th>number</th>\n",
       "      <th>value</th>\n",
       "      <th>datetime_start</th>\n",
       "      <th>datetime_complete</th>\n",
       "      <th>duration</th>\n",
       "      <th>params_C</th>\n",
       "      <th>state</th>\n",
       "    </tr>\n",
       "  </thead>\n",
       "  <tbody>\n",
       "    <tr>\n",
       "      <th>0</th>\n",
       "      <td>0</td>\n",
       "      <td>0.508333</td>\n",
       "      <td>2025-04-29 17:50:00.035428</td>\n",
       "      <td>2025-04-29 17:50:00.061111</td>\n",
       "      <td>0 days 00:00:00.025683</td>\n",
       "      <td>0.003646</td>\n",
       "      <td>COMPLETE</td>\n",
       "    </tr>\n",
       "    <tr>\n",
       "      <th>1</th>\n",
       "      <td>1</td>\n",
       "      <td>0.500000</td>\n",
       "      <td>2025-04-29 17:50:00.067034</td>\n",
       "      <td>2025-04-29 17:50:00.084878</td>\n",
       "      <td>0 days 00:00:00.017844</td>\n",
       "      <td>0.001568</td>\n",
       "      <td>COMPLETE</td>\n",
       "    </tr>\n",
       "    <tr>\n",
       "      <th>2</th>\n",
       "      <td>2</td>\n",
       "      <td>0.796334</td>\n",
       "      <td>2025-04-29 17:50:00.089024</td>\n",
       "      <td>2025-04-29 17:50:00.106252</td>\n",
       "      <td>0 days 00:00:00.017228</td>\n",
       "      <td>6.885534</td>\n",
       "      <td>COMPLETE</td>\n",
       "    </tr>\n",
       "    <tr>\n",
       "      <th>3</th>\n",
       "      <td>3</td>\n",
       "      <td>0.537917</td>\n",
       "      <td>2025-04-29 17:50:00.110049</td>\n",
       "      <td>2025-04-29 17:50:00.125893</td>\n",
       "      <td>0 days 00:00:00.015844</td>\n",
       "      <td>0.006935</td>\n",
       "      <td>COMPLETE</td>\n",
       "    </tr>\n",
       "    <tr>\n",
       "      <th>4</th>\n",
       "      <td>4</td>\n",
       "      <td>0.796334</td>\n",
       "      <td>2025-04-29 17:50:00.130905</td>\n",
       "      <td>2025-04-29 17:50:00.147873</td>\n",
       "      <td>0 days 00:00:00.016968</td>\n",
       "      <td>2.368930</td>\n",
       "      <td>COMPLETE</td>\n",
       "    </tr>\n",
       "  </tbody>\n",
       "</table>\n",
       "</div>"
      ],
      "text/plain": [
       "   number     value             datetime_start          datetime_complete  \\\n",
       "0       0  0.508333 2025-04-29 17:50:00.035428 2025-04-29 17:50:00.061111   \n",
       "1       1  0.500000 2025-04-29 17:50:00.067034 2025-04-29 17:50:00.084878   \n",
       "2       2  0.796334 2025-04-29 17:50:00.089024 2025-04-29 17:50:00.106252   \n",
       "3       3  0.537917 2025-04-29 17:50:00.110049 2025-04-29 17:50:00.125893   \n",
       "4       4  0.796334 2025-04-29 17:50:00.130905 2025-04-29 17:50:00.147873   \n",
       "\n",
       "                duration  params_C     state  \n",
       "0 0 days 00:00:00.025683  0.003646  COMPLETE  \n",
       "1 0 days 00:00:00.017844  0.001568  COMPLETE  \n",
       "2 0 days 00:00:00.017228  6.885534  COMPLETE  \n",
       "3 0 days 00:00:00.015844  0.006935  COMPLETE  \n",
       "4 0 days 00:00:00.016968  2.368930  COMPLETE  "
      ]
     },
     "execution_count": 79,
     "metadata": {},
     "output_type": "execute_result"
    }
   ],
   "source": [
    "dataframe.head()"
   ]
  },
  {
   "cell_type": "code",
   "execution_count": 83,
   "id": "186863cd",
   "metadata": {},
   "outputs": [
    {
     "data": {
      "image/png": "[encoded data removed]",
      "text/plain": [
       "<Figure size 800x500 with 2 Axes>"
      ]
     },
     "metadata": {},
     "output_type": "display_data"
    }
   ],
   "source": [
    "import matplotlib.pyplot as plt\n",
    "\n",
    "colors = plt.get_cmap('viridis')\n",
    "plt.figure(figsize=(8,5))\n",
    "plt.scatter(\n",
    "    C,\n",
    "    dataframe['value'],\n",
    "    s=4 * trial_number,\n",
    "    marker='^',\n",
    "    c=trial_number,\n",
    "    cmap=colors\n",
    ")\n",
    "plt.xscale('log')\n",
    "plt.xlabel(\"C (log scale)\")\n",
    "plt.ylabel(\"ROC AUC\" if study_number == 0 else \"Log Loss\")\n",
    "plt.title(\"Parameter Space: C vs. Performance\")\n",
    "plt.colorbar(label=\"Trial Number\")\n",
    "plt.grid(True)\n",
    "plt.tight_layout()\n",
    "plt.show()\n"
   ]
  },
  {
   "cell_type": "markdown",
   "id": "27cb1f32",
   "metadata": {},
   "source": [
    "### Now get best C and train final model and view results"
   ]
  },
  {
   "cell_type": "code",
   "execution_count": null,
   "id": "8dd84fe0",
   "metadata": {},
   "outputs": [
    {
     "name": "stdout",
     "output_type": "stream",
     "text": [
      "Best C: 0.2579364203258358\n"
     ]
    }
   ],
   "source": [
    "study_name = 'accuracy_dataset2'\n",
    "storage_name = f\"sqlite:///../optuna_database/{study_name}.db\"\n",
    "\n",
    "study = optuna.load_study(study_name=study_name, storage=storage_name)\n",
    "best_c = study.best_trial.params['C']\n",
    "print(\"Best C:\", best_c)"
   ]
  },
  {
   "cell_type": "code",
   "execution_count": 87,
   "id": "ce8eea0a",
   "metadata": {},
   "outputs": [
    {
     "name": "stdout",
     "output_type": "stream",
     "text": [
      "ROC AUC: 0.8055198973042362\n",
      "Accuracy: 0.85\n",
      "Log Loss: 0.3941816372544925\n",
      "Classification Report:\n",
      "               precision    recall  f1-score   support\n",
      "\n",
      "           0       0.86      0.93      0.89        41\n",
      "           1       0.81      0.68      0.74        19\n",
      "\n",
      "    accuracy                           0.85        60\n",
      "   macro avg       0.84      0.81      0.82        60\n",
      "weighted avg       0.85      0.85      0.85        60\n",
      "\n"
     ]
    }
   ],
   "source": [
    "final_model = LogisticRegression(\n",
    "    C=best_c,\n",
    "    penalty='l2',\n",
    "    solver='lbfgs',\n",
    "    max_iter=1000,\n",
    "    random_state=42\n",
    ")\n",
    "\n",
    "final_model.fit(X_train, y_train)\n",
    "\n",
    "y_probs = final_model.predict_proba(X_test)[:, 1]\n",
    "y_preds = final_model.predict(X_test)\n",
    "\n",
    "print(\"ROC AUC:\", roc_auc_score(y_test, y_preds))\n",
    "print(\"Accuracy:\", accuracy_score(y_test, y_preds))\n",
    "print(\"Log Loss:\", log_loss(y_test, y_probs))\n",
    "print(\"Classification Report:\\n\", classification_report(y_test, y_preds))"
   ]
  },
  {
   "cell_type": "code",
   "execution_count": null,
   "id": "021394c6",
   "metadata": {},
   "outputs": [],
   "source": []
  }
 ],
 "metadata": {
  "kernelspec": {
   "display_name": "Python 3 (ipykernel)",
   "language": "python",
   "name": "python3"
  },
  "language_info": {
   "codemirror_mode": {
    "name": "ipython",
    "version": 3
   },
   "file_extension": ".py",
   "mimetype": "text/x-python",
   "name": "python",
   "nbconvert_exporter": "python",
   "pygments_lexer": "ipython3",
   "version": "3.12.3"
  }
 },
 "nbformat": 4,
 "nbformat_minor": 5
}
