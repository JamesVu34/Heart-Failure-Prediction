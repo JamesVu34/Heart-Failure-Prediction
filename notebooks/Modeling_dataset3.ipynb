{
 "cells": [
  {
   "cell_type": "code",
   "execution_count": 34,
   "id": "daec23a2",
   "metadata": {},
   "outputs": [],
   "source": [
    "import pandas as pd\n",
    "from sklearn.model_selection import train_test_split, StratifiedKFold\n",
    "from sklearn.linear_model import LogisticRegression\n",
    "from sklearn.metrics import classification_report, accuracy_score, roc_auc_score, log_loss\n",
    "from sklearn.ensemble import RandomForestClassifier\n",
    "from sklearn.feature_selection import SelectFromModel\n",
    "from imblearn.over_sampling import SMOTE\n",
    "import plotly.express as px\n",
    "import numpy as np\n",
    "import optuna\n",
    "import matplotlib.pyplot as plt\n",
    "import warnings \n",
    "import seaborn as sns"
   ]
  },
  {
   "cell_type": "markdown",
   "id": "c23c16a3",
   "metadata": {},
   "source": [
    "# Dataset 3 Modeling"
   ]
  },
  {
   "cell_type": "code",
   "execution_count": 2,
   "id": "a2e00548",
   "metadata": {},
   "outputs": [
    {
     "name": "stdout",
     "output_type": "stream",
     "text": [
      "<class 'pandas.core.frame.DataFrame'>\n",
      "RangeIndex: 154 entries, 0 to 153\n",
      "Data columns (total 52 columns):\n",
      " #   Column                             Non-Null Count  Dtype  \n",
      "---  ------                             --------------  -----  \n",
      " 0   age                                154 non-null    float64\n",
      " 1   sex                                154 non-null    int64  \n",
      " 2   locality                           154 non-null    int64  \n",
      " 3   marital_status                     154 non-null    int64  \n",
      " 4   sleep                              154 non-null    int64  \n",
      " 5   depression                         154 non-null    int64  \n",
      " 6   hyperlipi                          154 non-null    int64  \n",
      " 7   smoking                            154 non-null    int64  \n",
      " 8   family_history                     154 non-null    int64  \n",
      " 9   f_history                          154 non-null    int64  \n",
      " 10  diabetes                           154 non-null    int64  \n",
      " 11  hypertension                       154 non-null    int64  \n",
      " 12  allergies                          154 non-null    int64  \n",
      " 13  blood_pressure                     154 non-null    float64\n",
      " 14  thrombolysis                       154 non-null    int64  \n",
      " 15  blood_glucose_random               154 non-null    float64\n",
      " 16  blood_urea                         154 non-null    float64\n",
      " 17  serum_creatinine                   154 non-null    float64\n",
      " 18  serum_sodium                       154 non-null    float64\n",
      " 19  serum_potassium                    154 non-null    float64\n",
      " 20  serum_chloride                     154 non-null    float64\n",
      " 21  creatinine_phosphokinase           154 non-null    float64\n",
      " 22  creatinine_kinase                  154 non-null    float64\n",
      " 23  sedimentation_rate                 154 non-null    float64\n",
      " 24  white_blood_cell_count             154 non-null    float64\n",
      " 25  red_blood_cell_count               154 non-null    float64\n",
      " 26  hemoglobin                         154 non-null    float64\n",
      " 27  packed_cell_volume                 154 non-null    float64\n",
      " 28  red_cell_volume                    154 non-null    float64\n",
      " 29  red_cell_hemoglobin                154 non-null    float64\n",
      " 30  red_cell_hemoglobin_concentration  154 non-null    float64\n",
      " 31  platelet_count                     154 non-null    float64\n",
      " 32  neutrophil                         154 non-null    float64\n",
      " 33  lympho                             154 non-null    float64\n",
      " 34  monocyte                           154 non-null    float64\n",
      " 35  eosino                             154 non-null    float64\n",
      " 36  hypersensitivity                   154 non-null    int64  \n",
      " 37  chest_pain_type                    154 non-null    int64  \n",
      " 38  resting_bp                         154 non-null    float64\n",
      " 39  cholestorl                         154 non-null    float64\n",
      " 40  fasting_blood_sugar                154 non-null    int64  \n",
      " 41  resting_ecg                        154 non-null    int64  \n",
      " 42  max_hr                             154 non-null    float64\n",
      " 43  exercise_angina                    154 non-null    int64  \n",
      " 44  oldpeak                            154 non-null    float64\n",
      " 45  st_slope                           154 non-null    int64  \n",
      " 46  ca                                 154 non-null    int64  \n",
      " 47  thalassemia                        154 non-null    int64  \n",
      " 48  heart_disease_severity             154 non-null    int64  \n",
      " 49  streptokinase_therapy              154 non-null    int64  \n",
      " 50  reaction                           154 non-null    int64  \n",
      " 51  HeartDisease                       154 non-null    int64  \n",
      "dtypes: float64(27), int64(25)\n",
      "memory usage: 62.7 KB\n"
     ]
    },
    {
     "data": {
      "text/html": [
       "<div>\n",
       "<style scoped>\n",
       "    .dataframe tbody tr th:only-of-type {\n",
       "        vertical-align: middle;\n",
       "    }\n",
       "\n",
       "    .dataframe tbody tr th {\n",
       "        vertical-align: top;\n",
       "    }\n",
       "\n",
       "    .dataframe thead th {\n",
       "        text-align: right;\n",
       "    }\n",
       "</style>\n",
       "<table border=\"1\" class=\"dataframe\">\n",
       "  <thead>\n",
       "    <tr style=\"text-align: right;\">\n",
       "      <th></th>\n",
       "      <th>age</th>\n",
       "      <th>sex</th>\n",
       "      <th>locality</th>\n",
       "      <th>marital_status</th>\n",
       "      <th>sleep</th>\n",
       "      <th>depression</th>\n",
       "      <th>hyperlipi</th>\n",
       "      <th>smoking</th>\n",
       "      <th>family_history</th>\n",
       "      <th>f_history</th>\n",
       "      <th>...</th>\n",
       "      <th>max_hr</th>\n",
       "      <th>exercise_angina</th>\n",
       "      <th>oldpeak</th>\n",
       "      <th>st_slope</th>\n",
       "      <th>ca</th>\n",
       "      <th>thalassemia</th>\n",
       "      <th>heart_disease_severity</th>\n",
       "      <th>streptokinase_therapy</th>\n",
       "      <th>reaction</th>\n",
       "      <th>HeartDisease</th>\n",
       "    </tr>\n",
       "  </thead>\n",
       "  <tbody>\n",
       "    <tr>\n",
       "      <th>0</th>\n",
       "      <td>-1.195961</td>\n",
       "      <td>0</td>\n",
       "      <td>1</td>\n",
       "      <td>1</td>\n",
       "      <td>0</td>\n",
       "      <td>1</td>\n",
       "      <td>1</td>\n",
       "      <td>0</td>\n",
       "      <td>0</td>\n",
       "      <td>0</td>\n",
       "      <td>...</td>\n",
       "      <td>-0.177879</td>\n",
       "      <td>1</td>\n",
       "      <td>1.133205</td>\n",
       "      <td>2</td>\n",
       "      <td>0</td>\n",
       "      <td>7</td>\n",
       "      <td>2</td>\n",
       "      <td>1</td>\n",
       "      <td>0</td>\n",
       "      <td>0</td>\n",
       "    </tr>\n",
       "    <tr>\n",
       "      <th>1</th>\n",
       "      <td>-0.529856</td>\n",
       "      <td>0</td>\n",
       "      <td>0</td>\n",
       "      <td>1</td>\n",
       "      <td>0</td>\n",
       "      <td>1</td>\n",
       "      <td>1</td>\n",
       "      <td>0</td>\n",
       "      <td>0</td>\n",
       "      <td>0</td>\n",
       "      <td>...</td>\n",
       "      <td>0.089373</td>\n",
       "      <td>1</td>\n",
       "      <td>-0.255497</td>\n",
       "      <td>2</td>\n",
       "      <td>0</td>\n",
       "      <td>7</td>\n",
       "      <td>2</td>\n",
       "      <td>1</td>\n",
       "      <td>0</td>\n",
       "      <td>0</td>\n",
       "    </tr>\n",
       "    <tr>\n",
       "      <th>2</th>\n",
       "      <td>-0.085786</td>\n",
       "      <td>0</td>\n",
       "      <td>1</td>\n",
       "      <td>1</td>\n",
       "      <td>1</td>\n",
       "      <td>1</td>\n",
       "      <td>1</td>\n",
       "      <td>0</td>\n",
       "      <td>0</td>\n",
       "      <td>0</td>\n",
       "      <td>...</td>\n",
       "      <td>-1.024179</td>\n",
       "      <td>1</td>\n",
       "      <td>1.441806</td>\n",
       "      <td>2</td>\n",
       "      <td>0</td>\n",
       "      <td>3</td>\n",
       "      <td>2</td>\n",
       "      <td>1</td>\n",
       "      <td>0</td>\n",
       "      <td>0</td>\n",
       "    </tr>\n",
       "    <tr>\n",
       "      <th>3</th>\n",
       "      <td>-0.085786</td>\n",
       "      <td>0</td>\n",
       "      <td>1</td>\n",
       "      <td>1</td>\n",
       "      <td>1</td>\n",
       "      <td>1</td>\n",
       "      <td>1</td>\n",
       "      <td>0</td>\n",
       "      <td>0</td>\n",
       "      <td>0</td>\n",
       "      <td>...</td>\n",
       "      <td>-0.445132</td>\n",
       "      <td>1</td>\n",
       "      <td>0.361704</td>\n",
       "      <td>2</td>\n",
       "      <td>1</td>\n",
       "      <td>7</td>\n",
       "      <td>3</td>\n",
       "      <td>1</td>\n",
       "      <td>0</td>\n",
       "      <td>0</td>\n",
       "    </tr>\n",
       "    <tr>\n",
       "      <th>4</th>\n",
       "      <td>0.025231</td>\n",
       "      <td>0</td>\n",
       "      <td>1</td>\n",
       "      <td>1</td>\n",
       "      <td>0</td>\n",
       "      <td>1</td>\n",
       "      <td>1</td>\n",
       "      <td>0</td>\n",
       "      <td>0</td>\n",
       "      <td>0</td>\n",
       "      <td>...</td>\n",
       "      <td>-0.311506</td>\n",
       "      <td>1</td>\n",
       "      <td>1.904706</td>\n",
       "      <td>3</td>\n",
       "      <td>2</td>\n",
       "      <td>7</td>\n",
       "      <td>3</td>\n",
       "      <td>1</td>\n",
       "      <td>0</td>\n",
       "      <td>0</td>\n",
       "    </tr>\n",
       "  </tbody>\n",
       "</table>\n",
       "<p>5 rows × 52 columns</p>\n",
       "</div>"
      ],
      "text/plain": [
       "        age  sex  locality  marital_status  sleep  depression  hyperlipi  \\\n",
       "0 -1.195961    0         1               1      0           1          1   \n",
       "1 -0.529856    0         0               1      0           1          1   \n",
       "2 -0.085786    0         1               1      1           1          1   \n",
       "3 -0.085786    0         1               1      1           1          1   \n",
       "4  0.025231    0         1               1      0           1          1   \n",
       "\n",
       "   smoking  family_history  f_history  ...    max_hr  exercise_angina  \\\n",
       "0        0               0          0  ... -0.177879                1   \n",
       "1        0               0          0  ...  0.089373                1   \n",
       "2        0               0          0  ... -1.024179                1   \n",
       "3        0               0          0  ... -0.445132                1   \n",
       "4        0               0          0  ... -0.311506                1   \n",
       "\n",
       "    oldpeak  st_slope  ca  thalassemia  heart_disease_severity  \\\n",
       "0  1.133205         2   0            7                       2   \n",
       "1 -0.255497         2   0            7                       2   \n",
       "2  1.441806         2   0            3                       2   \n",
       "3  0.361704         2   1            7                       3   \n",
       "4  1.904706         3   2            7                       3   \n",
       "\n",
       "   streptokinase_therapy  reaction  HeartDisease  \n",
       "0                      1         0             0  \n",
       "1                      1         0             0  \n",
       "2                      1         0             0  \n",
       "3                      1         0             0  \n",
       "4                      1         0             0  \n",
       "\n",
       "[5 rows x 52 columns]"
      ]
     },
     "metadata": {},
     "output_type": "display_data"
    },
    {
     "data": {
      "text/plain": [
       "(154, 52)"
      ]
     },
     "metadata": {},
     "output_type": "display_data"
    },
    {
     "data": {
      "text/plain": [
       "None"
      ]
     },
     "metadata": {},
     "output_type": "display_data"
    }
   ],
   "source": [
    "df = pd.read_csv('../data/processed/heart_dataset_3_processed.csv')\n",
    "display(df.head(), df.shape, df.info())"
   ]
  },
  {
   "cell_type": "code",
   "execution_count": 3,
   "id": "e5e7a6fa",
   "metadata": {},
   "outputs": [
    {
     "data": {
      "application/vnd.plotly.v1+json": {
       "config": {
        "plotlyServerURL": "https://plot.ly"
       },
       "data": [
        {
         "coloraxis": "coloraxis",
         "hovertemplate": "x: %{x}<br>y: %{y}<br>color: %{z}<extra></extra>",
         "name": "0",
         "type": "heatmap",
         "x": [
          "age",
          "sex",
          "locality",
          "marital_status",
          "sleep",
          "depression",
          "hyperlipi",
          "smoking",
          "family_history",
          "f_history",
          "diabetes",
          "hypertension",
          "allergies",
          "blood_pressure",
          "thrombolysis",
          "blood_glucose_random",
          "blood_urea",
          "serum_creatinine",
          "serum_sodium",
          "serum_potassium",
          "serum_chloride",
          "creatinine_phosphokinase",
          "creatinine_kinase",
          "sedimentation_rate",
          "white_blood_cell_count",
          "red_blood_cell_count",
          "hemoglobin",
          "packed_cell_volume",
          "red_cell_volume",
          "red_cell_hemoglobin",
          "red_cell_hemoglobin_concentration",
          "platelet_count",
          "neutrophil",
          "lympho",
          "monocyte",
          "eosino",
          "hypersensitivity",
          "chest_pain_type",
          "resting_bp",
          "cholestorl",
          "fasting_blood_sugar",
          "resting_ecg",
          "max_hr",
          "exercise_angina",
          "oldpeak",
          "st_slope",
          "ca",
          "thalassemia",
          "heart_disease_severity",
          "streptokinase_therapy",
          "reaction",
          "HeartDisease"
         ],
         "xaxis": "x",
         "y": [
          "age",
          "sex",
          "locality",
          "marital_status",
          "sleep",
          "depression",
          "hyperlipi",
          "smoking",
          "family_history",
          "f_history",
          "diabetes",
          "hypertension",
          "allergies",
          "blood_pressure",
          "thrombolysis",
          "blood_glucose_random",
          "blood_urea",
          "serum_creatinine",
          "serum_sodium",
          "serum_potassium",
          "serum_chloride",
          "creatinine_phosphokinase",
          "creatinine_kinase",
          "sedimentation_rate",
          "white_blood_cell_count",
          "red_blood_cell_count",
          "hemoglobin",
          "packed_cell_volume",
          "red_cell_volume",
          "red_cell_hemoglobin",
          "red_cell_hemoglobin_concentration",
          "platelet_count",
          "neutrophil",
          "lympho",
          "monocyte",
          "eosino",
          "hypersensitivity",
          "chest_pain_type",
          "resting_bp",
          "cholestorl",
          "fasting_blood_sugar",
          "resting_ecg",
          "max_hr",
          "exercise_angina",
          "oldpeak",
          "st_slope",
          "ca",
          "thalassemia",
          "heart_disease_severity",
          "streptokinase_therapy",
          "reaction",
          "HeartDisease"
         ],
         "yaxis": "y",
         "z": {
          "bdata": "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",
          "dtype": "f8",
          "shape": "52, 52"
         }
        }
       ],
       "layout": {
        "coloraxis": {
         "colorscale": [
          [
           0,
           "#0d0887"
          ],
          [
           0.1111111111111111,
           "#46039f"
          ],
          [
           0.2222222222222222,
           "#7201a8"
          ],
          [
           0.3333333333333333,
           "#9c179e"
          ],
          [
           0.4444444444444444,
           "#bd3786"
          ],
          [
           0.5555555555555556,
           "#d8576b"
          ],
          [
           0.6666666666666666,
           "#ed7953"
          ],
          [
           0.7777777777777778,
           "#fb9f3a"
          ],
          [
           0.8888888888888888,
           "#fdca26"
          ],
          [
           1,
           "#f0f921"
          ]
         ]
        },
        "template": {
         "data": {
          "bar": [
           {
            "error_x": {
             "color": "#2a3f5f"
            },
            "error_y": {
             "color": "#2a3f5f"
            },
            "marker": {
             "line": {
              "color": "#E5ECF6",
              "width": 0.5
             },
             "pattern": {
              "fillmode": "overlay",
              "size": 10,
              "solidity": 0.2
             }
            },
            "type": "bar"
           }
          ],
          "barpolar": [
           {
            "marker": {
             "line": {
              "color": "#E5ECF6",
              "width": 0.5
             },
             "pattern": {
              "fillmode": "overlay",
              "size": 10,
              "solidity": 0.2
             }
            },
            "type": "barpolar"
           }
          ],
          "carpet": [
           {
            "aaxis": {
             "endlinecolor": "#2a3f5f",
             "gridcolor": "white",
             "linecolor": "white",
             "minorgridcolor": "white",
             "startlinecolor": "#2a3f5f"
            },
            "baxis": {
             "endlinecolor": "#2a3f5f",
             "gridcolor": "white",
             "linecolor": "white",
             "minorgridcolor": "white",
             "startlinecolor": "#2a3f5f"
            },
            "type": "carpet"
           }
          ],
          "choropleth": [
           {
            "colorbar": {
             "outlinewidth": 0,
             "ticks": ""
            },
            "type": "choropleth"
           }
          ],
          "contour": [
           {
            "colorbar": {
             "outlinewidth": 0,
             "ticks": ""
            },
            "colorscale": [
             [
              0,
              "#0d0887"
             ],
             [
              0.1111111111111111,
              "#46039f"
             ],
             [
              0.2222222222222222,
              "#7201a8"
             ],
             [
              0.3333333333333333,
              "#9c179e"
             ],
             [
              0.4444444444444444,
              "#bd3786"
             ],
             [
              0.5555555555555556,
              "#d8576b"
             ],
             [
              0.6666666666666666,
              "#ed7953"
             ],
             [
              0.7777777777777778,
              "#fb9f3a"
             ],
             [
              0.8888888888888888,
              "#fdca26"
             ],
             [
              1,
              "#f0f921"
             ]
            ],
            "type": "contour"
           }
          ],
          "contourcarpet": [
           {
            "colorbar": {
             "outlinewidth": 0,
             "ticks": ""
            },
            "type": "contourcarpet"
           }
          ],
          "heatmap": [
           {
            "colorbar": {
             "outlinewidth": 0,
             "ticks": ""
            },
            "colorscale": [
             [
              0,
              "#0d0887"
             ],
             [
              0.1111111111111111,
              "#46039f"
             ],
             [
              0.2222222222222222,
              "#7201a8"
             ],
             [
              0.3333333333333333,
              "#9c179e"
             ],
             [
              0.4444444444444444,
              "#bd3786"
             ],
             [
              0.5555555555555556,
              "#d8576b"
             ],
             [
              0.6666666666666666,
              "#ed7953"
             ],
             [
              0.7777777777777778,
              "#fb9f3a"
             ],
             [
              0.8888888888888888,
              "#fdca26"
             ],
             [
              1,
              "#f0f921"
             ]
            ],
            "type": "heatmap"
           }
          ],
          "histogram": [
           {
            "marker": {
             "pattern": {
              "fillmode": "overlay",
              "size": 10,
              "solidity": 0.2
             }
            },
            "type": "histogram"
           }
          ],
          "histogram2d": [
           {
            "colorbar": {
             "outlinewidth": 0,
             "ticks": ""
            },
            "colorscale": [
             [
              0,
              "#0d0887"
             ],
             [
              0.1111111111111111,
              "#46039f"
             ],
             [
              0.2222222222222222,
              "#7201a8"
             ],
             [
              0.3333333333333333,
              "#9c179e"
             ],
             [
              0.4444444444444444,
              "#bd3786"
             ],
             [
              0.5555555555555556,
              "#d8576b"
             ],
             [
              0.6666666666666666,
              "#ed7953"
             ],
             [
              0.7777777777777778,
              "#fb9f3a"
             ],
             [
              0.8888888888888888,
              "#fdca26"
             ],
             [
              1,
              "#f0f921"
             ]
            ],
            "type": "histogram2d"
           }
          ],
          "histogram2dcontour": [
           {
            "colorbar": {
             "outlinewidth": 0,
             "ticks": ""
            },
            "colorscale": [
             [
              0,
              "#0d0887"
             ],
             [
              0.1111111111111111,
              "#46039f"
             ],
             [
              0.2222222222222222,
              "#7201a8"
             ],
             [
              0.3333333333333333,
              "#9c179e"
             ],
             [
              0.4444444444444444,
              "#bd3786"
             ],
             [
              0.5555555555555556,
              "#d8576b"
             ],
             [
              0.6666666666666666,
              "#ed7953"
             ],
             [
              0.7777777777777778,
              "#fb9f3a"
             ],
             [
              0.8888888888888888,
              "#fdca26"
             ],
             [
              1,
              "#f0f921"
             ]
            ],
            "type": "histogram2dcontour"
           }
          ],
          "mesh3d": [
           {
            "colorbar": {
             "outlinewidth": 0,
             "ticks": ""
            },
            "type": "mesh3d"
           }
          ],
          "parcoords": [
           {
            "line": {
             "colorbar": {
              "outlinewidth": 0,
              "ticks": ""
             }
            },
            "type": "parcoords"
           }
          ],
          "pie": [
           {
            "automargin": true,
            "type": "pie"
           }
          ],
          "scatter": [
           {
            "fillpattern": {
             "fillmode": "overlay",
             "size": 10,
             "solidity": 0.2
            },
            "type": "scatter"
           }
          ],
          "scatter3d": [
           {
            "line": {
             "colorbar": {
              "outlinewidth": 0,
              "ticks": ""
             }
            },
            "marker": {
             "colorbar": {
              "outlinewidth": 0,
              "ticks": ""
             }
            },
            "type": "scatter3d"
           }
          ],
          "scattercarpet": [
           {
            "marker": {
             "colorbar": {
              "outlinewidth": 0,
              "ticks": ""
             }
            },
            "type": "scattercarpet"
           }
          ],
          "scattergeo": [
           {
            "marker": {
             "colorbar": {
              "outlinewidth": 0,
              "ticks": ""
             }
            },
            "type": "scattergeo"
           }
          ],
          "scattergl": [
           {
            "marker": {
             "colorbar": {
              "outlinewidth": 0,
              "ticks": ""
             }
            },
            "type": "scattergl"
           }
          ],
          "scattermap": [
           {
            "marker": {
             "colorbar": {
              "outlinewidth": 0,
              "ticks": ""
             }
            },
            "type": "scattermap"
           }
          ],
          "scattermapbox": [
           {
            "marker": {
             "colorbar": {
              "outlinewidth": 0,
              "ticks": ""
             }
            },
            "type": "scattermapbox"
           }
          ],
          "scatterpolar": [
           {
            "marker": {
             "colorbar": {
              "outlinewidth": 0,
              "ticks": ""
             }
            },
            "type": "scatterpolar"
           }
          ],
          "scatterpolargl": [
           {
            "marker": {
             "colorbar": {
              "outlinewidth": 0,
              "ticks": ""
             }
            },
            "type": "scatterpolargl"
           }
          ],
          "scatterternary": [
           {
            "marker": {
             "colorbar": {
              "outlinewidth": 0,
              "ticks": ""
             }
            },
            "type": "scatterternary"
           }
          ],
          "surface": [
           {
            "colorbar": {
             "outlinewidth": 0,
             "ticks": ""
            },
            "colorscale": [
             [
              0,
              "#0d0887"
             ],
             [
              0.1111111111111111,
              "#46039f"
             ],
             [
              0.2222222222222222,
              "#7201a8"
             ],
             [
              0.3333333333333333,
              "#9c179e"
             ],
             [
              0.4444444444444444,
              "#bd3786"
             ],
             [
              0.5555555555555556,
              "#d8576b"
             ],
             [
              0.6666666666666666,
              "#ed7953"
             ],
             [
              0.7777777777777778,
              "#fb9f3a"
             ],
             [
              0.8888888888888888,
              "#fdca26"
             ],
             [
              1,
              "#f0f921"
             ]
            ],
            "type": "surface"
           }
          ],
          "table": [
           {
            "cells": {
             "fill": {
              "color": "#EBF0F8"
             },
             "line": {
              "color": "white"
             }
            },
            "header": {
             "fill": {
              "color": "#C8D4E3"
             },
             "line": {
              "color": "white"
             }
            },
            "type": "table"
           }
          ]
         },
         "layout": {
          "annotationdefaults": {
           "arrowcolor": "#2a3f5f",
           "arrowhead": 0,
           "arrowwidth": 1
          },
          "autotypenumbers": "strict",
          "coloraxis": {
           "colorbar": {
            "outlinewidth": 0,
            "ticks": ""
           }
          },
          "colorscale": {
           "diverging": [
            [
             0,
             "#8e0152"
            ],
            [
             0.1,
             "#c51b7d"
            ],
            [
             0.2,
             "#de77ae"
            ],
            [
             0.3,
             "#f1b6da"
            ],
            [
             0.4,
             "#fde0ef"
            ],
            [
             0.5,
             "#f7f7f7"
            ],
            [
             0.6,
             "#e6f5d0"
            ],
            [
             0.7,
             "#b8e186"
            ],
            [
             0.8,
             "#7fbc41"
            ],
            [
             0.9,
             "#4d9221"
            ],
            [
             1,
             "#276419"
            ]
           ],
           "sequential": [
            [
             0,
             "#0d0887"
            ],
            [
             0.1111111111111111,
             "#46039f"
            ],
            [
             0.2222222222222222,
             "#7201a8"
            ],
            [
             0.3333333333333333,
             "#9c179e"
            ],
            [
             0.4444444444444444,
             "#bd3786"
            ],
            [
             0.5555555555555556,
             "#d8576b"
            ],
            [
             0.6666666666666666,
             "#ed7953"
            ],
            [
             0.7777777777777778,
             "#fb9f3a"
            ],
            [
             0.8888888888888888,
             "#fdca26"
            ],
            [
             1,
             "#f0f921"
            ]
           ],
           "sequentialminus": [
            [
             0,
             "#0d0887"
            ],
            [
             0.1111111111111111,
             "#46039f"
            ],
            [
             0.2222222222222222,
             "#7201a8"
            ],
            [
             0.3333333333333333,
             "#9c179e"
            ],
            [
             0.4444444444444444,
             "#bd3786"
            ],
            [
             0.5555555555555556,
             "#d8576b"
            ],
            [
             0.6666666666666666,
             "#ed7953"
            ],
            [
             0.7777777777777778,
             "#fb9f3a"
            ],
            [
             0.8888888888888888,
             "#fdca26"
            ],
            [
             1,
             "#f0f921"
            ]
           ]
          },
          "colorway": [
           "#636efa",
           "#EF553B",
           "#00cc96",
           "#ab63fa",
           "#FFA15A",
           "#19d3f3",
           "#FF6692",
           "#B6E880",
           "#FF97FF",
           "#FECB52"
          ],
          "font": {
           "color": "#2a3f5f"
          },
          "geo": {
           "bgcolor": "white",
           "lakecolor": "white",
           "landcolor": "#E5ECF6",
           "showlakes": true,
           "showland": true,
           "subunitcolor": "white"
          },
          "hoverlabel": {
           "align": "left"
          },
          "hovermode": "closest",
          "mapbox": {
           "style": "light"
          },
          "paper_bgcolor": "white",
          "plot_bgcolor": "#E5ECF6",
          "polar": {
           "angularaxis": {
            "gridcolor": "white",
            "linecolor": "white",
            "ticks": ""
           },
           "bgcolor": "#E5ECF6",
           "radialaxis": {
            "gridcolor": "white",
            "linecolor": "white",
            "ticks": ""
           }
          },
          "scene": {
           "xaxis": {
            "backgroundcolor": "#E5ECF6",
            "gridcolor": "white",
            "gridwidth": 2,
            "linecolor": "white",
            "showbackground": true,
            "ticks": "",
            "zerolinecolor": "white"
           },
           "yaxis": {
            "backgroundcolor": "#E5ECF6",
            "gridcolor": "white",
            "gridwidth": 2,
            "linecolor": "white",
            "showbackground": true,
            "ticks": "",
            "zerolinecolor": "white"
           },
           "zaxis": {
            "backgroundcolor": "#E5ECF6",
            "gridcolor": "white",
            "gridwidth": 2,
            "linecolor": "white",
            "showbackground": true,
            "ticks": "",
            "zerolinecolor": "white"
           }
          },
          "shapedefaults": {
           "line": {
            "color": "#2a3f5f"
           }
          },
          "ternary": {
           "aaxis": {
            "gridcolor": "white",
            "linecolor": "white",
            "ticks": ""
           },
           "baxis": {
            "gridcolor": "white",
            "linecolor": "white",
            "ticks": ""
           },
           "bgcolor": "#E5ECF6",
           "caxis": {
            "gridcolor": "white",
            "linecolor": "white",
            "ticks": ""
           }
          },
          "title": {
           "x": 0.05
          },
          "xaxis": {
           "automargin": true,
           "gridcolor": "white",
           "linecolor": "white",
           "ticks": "",
           "title": {
            "standoff": 15
           },
           "zerolinecolor": "white",
           "zerolinewidth": 2
          },
          "yaxis": {
           "automargin": true,
           "gridcolor": "white",
           "linecolor": "white",
           "ticks": "",
           "title": {
            "standoff": 15
           },
           "zerolinecolor": "white",
           "zerolinewidth": 2
          }
         }
        },
        "title": {
         "text": "Correlation Plot"
        },
        "xaxis": {
         "anchor": "y",
         "constrain": "domain",
         "domain": [
          0,
          1
         ],
         "scaleanchor": "y"
        },
        "yaxis": {
         "anchor": "x",
         "autorange": "reversed",
         "constrain": "domain",
         "domain": [
          0,
          1
         ]
        }
       }
      }
     },
     "metadata": {},
     "output_type": "display_data"
    }
   ],
   "source": [
    "px.imshow(df.corr(),title=\"Correlation Plot\")"
   ]
  },
  {
   "cell_type": "markdown",
   "id": "1f3299b5",
   "metadata": {},
   "source": [
    "### Split the data"
   ]
  },
  {
   "cell_type": "code",
   "execution_count": null,
   "id": "d472367f",
   "metadata": {},
   "outputs": [],
   "source": [
    "X = df.drop(columns=['HeartDisease'])\n",
    "y = df['HeartDisease']\n",
    "\n",
    "# Split the data into training and testing sets\n",
    "X_train, X_test, y_train, y_test = train_test_split(X, y, test_size=0.2, random_state=42, stratify=y)"
   ]
  },
  {
   "cell_type": "markdown",
   "id": "b9800e77",
   "metadata": {},
   "source": [
    "### Start with a simple Logsitic Regression Model"
   ]
  },
  {
   "cell_type": "code",
   "execution_count": null,
   "id": "8838cfd7",
   "metadata": {},
   "outputs": [
    {
     "name": "stdout",
     "output_type": "stream",
     "text": [
      "\n",
      "📂 Fold 1\n",
      "              precision    recall  f1-score   support\n",
      "\n",
      "           0       0.86      0.90      0.88        21\n",
      "           1       0.33      0.25      0.29         4\n",
      "\n",
      "    accuracy                           0.80        25\n",
      "   macro avg       0.60      0.58      0.58        25\n",
      "weighted avg       0.78      0.80      0.79        25\n",
      "\n",
      "ROC AUC Score for Fold 1: 0.5774\n",
      "\n",
      "📂 Fold 2\n",
      "              precision    recall  f1-score   support\n",
      "\n",
      "           0       0.76      0.80      0.78        20\n",
      "           1       0.00      0.00      0.00         5\n",
      "\n",
      "    accuracy                           0.64        25\n",
      "   macro avg       0.38      0.40      0.39        25\n",
      "weighted avg       0.61      0.64      0.62        25\n",
      "\n",
      "ROC AUC Score for Fold 2: 0.4000\n",
      "\n",
      "📂 Fold 3\n",
      "              precision    recall  f1-score   support\n",
      "\n",
      "           0       0.86      0.90      0.88        20\n",
      "           1       0.50      0.40      0.44         5\n",
      "\n",
      "    accuracy                           0.80        25\n",
      "   macro avg       0.68      0.65      0.66        25\n",
      "weighted avg       0.79      0.80      0.79        25\n",
      "\n",
      "ROC AUC Score for Fold 3: 0.6500\n",
      "\n",
      "📂 Fold 4\n",
      "              precision    recall  f1-score   support\n",
      "\n",
      "           0       0.81      0.85      0.83        20\n",
      "           1       0.00      0.00      0.00         4\n",
      "\n",
      "    accuracy                           0.71        24\n",
      "   macro avg       0.40      0.42      0.41        24\n",
      "weighted avg       0.67      0.71      0.69        24\n",
      "\n",
      "ROC AUC Score for Fold 4: 0.4250\n",
      "\n",
      "📂 Fold 5\n",
      "              precision    recall  f1-score   support\n",
      "\n",
      "           0       0.86      0.90      0.88        20\n",
      "           1       0.33      0.25      0.29         4\n",
      "\n",
      "    accuracy                           0.79        24\n",
      "   macro avg       0.60      0.57      0.58        24\n",
      "weighted avg       0.77      0.79      0.78        24\n",
      "\n",
      "ROC AUC Score for Fold 5: 0.5750\n",
      "\n",
      "Cross-Validation Summary:\n",
      "Mean ROC AUC: 0.5255\n",
      "Standard Deviation: 0.0964\n"
     ]
    }
   ],
   "source": [
    "k_folds = StratifiedKFold(n_splits=5, shuffle=True, random_state=42)\n",
    "roc_accuracy_log = []\n",
    "\n",
    "for fold, (train_index, test_index) in enumerate(k_folds.split(X_train, y_train)):\n",
    "    classifier = LogisticRegression(max_iter=1000, random_state=42)\n",
    "    classifier.fit(X_train.iloc[train_index], y_train.iloc[train_index])\n",
    "\n",
    "    X_valid = X_train.iloc[test_index]\n",
    "    y_valid = y_train.iloc[test_index]\n",
    "    y_pred = classifier.predict(X_valid)\n",
    "\n",
    "    print(f\"\\n📂 Fold {fold + 1}\")\n",
    "    print(classification_report(y_valid, y_pred))\n",
    "\n",
    "    acc = roc_auc_score(y_valid, y_pred)\n",
    "    roc_accuracy_log.append(acc)\n",
    "    print(f\"ROC AUC Score for Fold {fold + 1}: {acc:.4f}\")\n",
    "\n",
    "print(\"\\nCross-Validation Summary:\")\n",
    "print(f\"Mean ROC AUC: {np.mean(roc_accuracy_log):.4f}\")\n",
    "print(f\"Standard Deviation: {np.std(roc_accuracy_log):.4f}\")"
   ]
  },
  {
   "cell_type": "code",
   "execution_count": 6,
   "id": "7b71d78d",
   "metadata": {},
   "outputs": [
    {
     "name": "stdout",
     "output_type": "stream",
     "text": [
      "HeartDisease\n",
      "0    101\n",
      "1     22\n",
      "Name: count, dtype: int64\n",
      "HeartDisease\n",
      "0    0.821138\n",
      "1    0.178862\n",
      "Name: proportion, dtype: float64\n"
     ]
    }
   ],
   "source": [
    "print(y_train.value_counts())\n",
    "print(y_train.value_counts(normalize=True))"
   ]
  },
  {
   "cell_type": "markdown",
   "id": "70c507ea",
   "metadata": {},
   "source": [
    "### From the code above we can see that there is a significant imbalance and thats why the ROC Score is barely above 0.5\n",
    "To fix use `class_weight=balanced` in updated Logistic Regression Model"
   ]
  },
  {
   "cell_type": "code",
   "execution_count": 8,
   "id": "15176f3e",
   "metadata": {},
   "outputs": [
    {
     "name": "stdout",
     "output_type": "stream",
     "text": [
      "\n",
      "📂 Fold 1\n",
      "              precision    recall  f1-score   support\n",
      "\n",
      "           0       0.89      0.81      0.85        21\n",
      "           1       0.33      0.50      0.40         4\n",
      "\n",
      "    accuracy                           0.76        25\n",
      "   macro avg       0.61      0.65      0.62        25\n",
      "weighted avg       0.80      0.76      0.78        25\n",
      "\n",
      "ROC AUC Score for Fold 1: 0.6548\n",
      "\n",
      "📂 Fold 2\n",
      "              precision    recall  f1-score   support\n",
      "\n",
      "           0       0.72      0.65      0.68        20\n",
      "           1       0.00      0.00      0.00         5\n",
      "\n",
      "    accuracy                           0.52        25\n",
      "   macro avg       0.36      0.33      0.34        25\n",
      "weighted avg       0.58      0.52      0.55        25\n",
      "\n",
      "ROC AUC Score for Fold 2: 0.3250\n",
      "\n",
      "📂 Fold 3\n",
      "              precision    recall  f1-score   support\n",
      "\n",
      "           0       0.89      0.80      0.84        20\n",
      "           1       0.43      0.60      0.50         5\n",
      "\n",
      "    accuracy                           0.76        25\n",
      "   macro avg       0.66      0.70      0.67        25\n",
      "weighted avg       0.80      0.76      0.77        25\n",
      "\n",
      "ROC AUC Score for Fold 3: 0.7000\n",
      "\n",
      "📂 Fold 4\n",
      "              precision    recall  f1-score   support\n",
      "\n",
      "           0       0.82      0.70      0.76        20\n",
      "           1       0.14      0.25      0.18         4\n",
      "\n",
      "    accuracy                           0.62        24\n",
      "   macro avg       0.48      0.47      0.47        24\n",
      "weighted avg       0.71      0.62      0.66        24\n",
      "\n",
      "ROC AUC Score for Fold 4: 0.4750\n",
      "\n",
      "📂 Fold 5\n",
      "              precision    recall  f1-score   support\n",
      "\n",
      "           0       0.85      0.85      0.85        20\n",
      "           1       0.25      0.25      0.25         4\n",
      "\n",
      "    accuracy                           0.75        24\n",
      "   macro avg       0.55      0.55      0.55        24\n",
      "weighted avg       0.75      0.75      0.75        24\n",
      "\n",
      "ROC AUC Score for Fold 5: 0.5500\n",
      "\n",
      "Cross-Validation Summary:\n",
      "Mean ROC AUC: 0.5410\n",
      "Standard Deviation: 0.1337\n"
     ]
    }
   ],
   "source": [
    "k_folds = StratifiedKFold(n_splits=5, shuffle=True, random_state=42)\n",
    "roc_auc_log = []\n",
    "\n",
    "for fold, (train_index, test_index) in enumerate(k_folds.split(X_train, y_train)):\n",
    "    classifier = LogisticRegression(\n",
    "        max_iter=1000,\n",
    "        random_state=42,\n",
    "        class_weight='balanced'  # 🔧 key fix\n",
    "    )\n",
    "\n",
    "    classifier.fit(X_train.iloc[train_index], y_train.iloc[train_index])\n",
    "\n",
    "    X_valid = X_train.iloc[test_index]\n",
    "    y_valid = y_train.iloc[test_index]\n",
    "    y_pred = classifier.predict(X_valid)\n",
    "\n",
    "    print(f\"\\n📂 Fold {fold + 1}\")\n",
    "    print(classification_report(y_valid, y_pred))\n",
    "\n",
    "    auc = roc_auc_score(y_valid, y_pred)\n",
    "    roc_auc_log.append(auc)\n",
    "    print(f\"ROC AUC Score for Fold {fold + 1}: {auc:.4f}\")\n",
    "\n",
    "print(\"\\nCross-Validation Summary:\")\n",
    "print(f\"Mean ROC AUC: {np.mean(roc_auc_log):.4f}\")\n",
    "print(f\"Standard Deviation: {np.std(roc_auc_log):.4f}\")"
   ]
  },
  {
   "cell_type": "markdown",
   "id": "3f5f73ef",
   "metadata": {},
   "source": [
    "### We still have a very weak model even with `class_weight=\"balanced\"` so lets try Random Forest Model"
   ]
  },
  {
   "cell_type": "code",
   "execution_count": null,
   "id": "df2935a7",
   "metadata": {},
   "outputs": [
    {
     "name": "stdout",
     "output_type": "stream",
     "text": [
      "\n",
      "📂 Fold 1\n",
      "              precision    recall  f1-score   support\n",
      "\n",
      "           0       0.84      1.00      0.91        21\n",
      "           1       0.00      0.00      0.00         4\n",
      "\n",
      "    accuracy                           0.84        25\n",
      "   macro avg       0.42      0.50      0.46        25\n",
      "weighted avg       0.71      0.84      0.77        25\n",
      "\n",
      "ROC AUC Score for Fold 1: 0.5000\n",
      "\n",
      "📂 Fold 2\n",
      "              precision    recall  f1-score   support\n",
      "\n",
      "           0       0.80      1.00      0.89        20\n",
      "           1       0.00      0.00      0.00         5\n",
      "\n",
      "    accuracy                           0.80        25\n",
      "   macro avg       0.40      0.50      0.44        25\n",
      "weighted avg       0.64      0.80      0.71        25\n",
      "\n",
      "ROC AUC Score for Fold 2: 0.5000\n",
      "\n",
      "📂 Fold 3\n",
      "              precision    recall  f1-score   support\n",
      "\n",
      "           0       0.80      1.00      0.89        20\n",
      "           1       0.00      0.00      0.00         5\n",
      "\n",
      "    accuracy                           0.80        25\n",
      "   macro avg       0.40      0.50      0.44        25\n",
      "weighted avg       0.64      0.80      0.71        25\n",
      "\n",
      "ROC AUC Score for Fold 3: 0.5000\n",
      "\n",
      "📂 Fold 4\n",
      "              precision    recall  f1-score   support\n",
      "\n",
      "           0       0.83      0.95      0.88        20\n",
      "           1       0.00      0.00      0.00         4\n",
      "\n",
      "    accuracy                           0.79        24\n",
      "   macro avg       0.41      0.47      0.44        24\n",
      "weighted avg       0.69      0.79      0.74        24\n",
      "\n",
      "ROC AUC Score for Fold 4: 0.4750\n",
      "\n",
      "📂 Fold 5\n",
      "              precision    recall  f1-score   support\n",
      "\n",
      "           0       0.83      0.95      0.88        20\n",
      "           1       0.00      0.00      0.00         4\n",
      "\n",
      "    accuracy                           0.79        24\n",
      "   macro avg       0.41      0.47      0.44        24\n",
      "weighted avg       0.69      0.79      0.74        24\n",
      "\n",
      "ROC AUC Score for Fold 5: 0.4750\n",
      "\n",
      "Cross-Validation Summary:\n",
      "Mean ROC AUC: 0.4900\n",
      "Standard Deviation: 0.0122\n"
     ]
    }
   ],
   "source": [
    "k_folds = StratifiedKFold(n_splits=5, shuffle=True, random_state=42)\n",
    "roc_auc_log = []\n",
    "\n",
    "for fold, (train_idx, val_idx) in enumerate(k_folds.split(X_train, y_train)):\n",
    "    model = RandomForestClassifier(\n",
    "        n_estimators=100,\n",
    "        max_depth=None,\n",
    "        class_weight='balanced',  # Handle class imbalance\n",
    "        random_state=42\n",
    "    )\n",
    "\n",
    "    model.fit(X_train.iloc[train_idx], y_train.iloc[train_idx])\n",
    "    y_valid = y_train.iloc[val_idx]\n",
    "    y_pred = model.predict(X_train.iloc[val_idx])\n",
    "\n",
    "    print(f\"\\n📂 Fold {fold + 1}\")\n",
    "    print(classification_report(y_valid, y_pred, zero_division=0))\n",
    "\n",
    "    auc = roc_auc_score(y_valid, y_pred)\n",
    "    roc_auc_log.append(auc)\n",
    "    print(f\"ROC AUC Score for Fold {fold + 1}: {auc:.4f}\")\n",
    "\n",
    "print(\"\\nCross-Validation Summary:\")\n",
    "print(f\"Mean ROC AUC: {np.mean(roc_auc_log):.4f}\")\n",
    "print(f\"Standard Deviation: {np.std(roc_auc_log):.4f}\")"
   ]
  },
  {
   "cell_type": "markdown",
   "id": "e7a0a997",
   "metadata": {},
   "source": [
    "### Since this model is weaker than Logistic Regression let's go back to it and implement SMOTE include oversampling inside each fold to improve the class imbalance."
   ]
  },
  {
   "cell_type": "code",
   "execution_count": 22,
   "id": "7cc741f4",
   "metadata": {},
   "outputs": [
    {
     "name": "stdout",
     "output_type": "stream",
     "text": [
      "\n",
      "Fold 1\n",
      "              precision    recall  f1-score   support\n",
      "\n",
      "           0       0.83      0.90      0.86        21\n",
      "           1       0.00      0.00      0.00         4\n",
      "\n",
      "    accuracy                           0.76        25\n",
      "   macro avg       0.41      0.45      0.43        25\n",
      "weighted avg       0.69      0.76      0.73        25\n",
      "\n",
      "ROC AUC Score for Fold 1: 0.4524\n",
      "\n",
      "Fold 2\n",
      "              precision    recall  f1-score   support\n",
      "\n",
      "           0       0.76      0.80      0.78        20\n",
      "           1       0.00      0.00      0.00         5\n",
      "\n",
      "    accuracy                           0.64        25\n",
      "   macro avg       0.38      0.40      0.39        25\n",
      "weighted avg       0.61      0.64      0.62        25\n",
      "\n",
      "ROC AUC Score for Fold 2: 0.4000\n",
      "\n",
      "Fold 3\n",
      "              precision    recall  f1-score   support\n",
      "\n",
      "           0       0.89      0.80      0.84        20\n",
      "           1       0.43      0.60      0.50         5\n",
      "\n",
      "    accuracy                           0.76        25\n",
      "   macro avg       0.66      0.70      0.67        25\n",
      "weighted avg       0.80      0.76      0.77        25\n",
      "\n",
      "ROC AUC Score for Fold 3: 0.7000\n",
      "\n",
      "Fold 4\n",
      "              precision    recall  f1-score   support\n",
      "\n",
      "           0       0.88      0.75      0.81        20\n",
      "           1       0.29      0.50      0.36         4\n",
      "\n",
      "    accuracy                           0.71        24\n",
      "   macro avg       0.58      0.62      0.59        24\n",
      "weighted avg       0.78      0.71      0.74        24\n",
      "\n",
      "ROC AUC Score for Fold 4: 0.6250\n",
      "\n",
      "Fold 5\n",
      "              precision    recall  f1-score   support\n",
      "\n",
      "           0       0.86      0.90      0.88        20\n",
      "           1       0.33      0.25      0.29         4\n",
      "\n",
      "    accuracy                           0.79        24\n",
      "   macro avg       0.60      0.57      0.58        24\n",
      "weighted avg       0.77      0.79      0.78        24\n",
      "\n",
      "ROC AUC Score for Fold 5: 0.5750\n",
      "\n",
      "Cross-Validation Summary:\n",
      "Mean ROC AUC: 0.5505\n",
      "Standard Deviation: 0.1103\n"
     ]
    }
   ],
   "source": [
    "warnings.filterwarnings(\"ignore\", category=FutureWarning)\n",
    "\n",
    "k_folds = StratifiedKFold(n_splits=5, shuffle=True, random_state=42)\n",
    "roc_auc_log = []\n",
    "\n",
    "for fold, (train_idx, val_idx) in enumerate(k_folds.split(X_train, y_train)):\n",
    "    # Split fold\n",
    "    X_fold_train, y_fold_train = X_train.iloc[train_idx], y_train.iloc[train_idx]\n",
    "    X_fold_val, y_fold_val = X_train.iloc[val_idx], y_train.iloc[val_idx]\n",
    "\n",
    "    # Apply SMOTE to training fold\n",
    "    smote = SMOTE(random_state=42)\n",
    "    X_resampled, y_resampled = smote.fit_resample(X_fold_train, y_fold_train)\n",
    "\n",
    "    # Train Logistic Regression\n",
    "    model = LogisticRegression(max_iter=1000, random_state=42)\n",
    "    model.fit(X_resampled, y_resampled)\n",
    "\n",
    "    # Predict and Evaluate\n",
    "    y_pred = model.predict(X_fold_val)\n",
    "\n",
    "    print(f\"\\nFold {fold + 1}\")\n",
    "    print(classification_report(y_fold_val, y_pred, zero_division=0))\n",
    "\n",
    "    auc = roc_auc_score(y_fold_val, y_pred)\n",
    "    roc_auc_log.append(auc)\n",
    "    print(f\"ROC AUC Score for Fold {fold + 1}: {auc:.4f}\")\n",
    "\n",
    "print(\"\\nCross-Validation Summary:\")\n",
    "print(f\"Mean ROC AUC: {np.mean(roc_auc_log):.4f}\")\n",
    "print(f\"Standard Deviation: {np.std(roc_auc_log):.4f}\")"
   ]
  },
  {
   "cell_type": "markdown",
   "id": "7181c6a4",
   "metadata": {},
   "source": [
    "### Results above improved a bit but not enough -- let's move onto tuning with Optuna"
   ]
  },
  {
   "cell_type": "code",
   "execution_count": 17,
   "id": "0b4afb58",
   "metadata": {},
   "outputs": [],
   "source": [
    "def objective(trial):\n",
    "    C = trial.suggest_float(\"C\", 1e-3, 10, log=True)\n",
    "\n",
    "    kfold = StratifiedKFold(n_splits=5, shuffle=True, random_state=42)\n",
    "    auc_scores = []\n",
    "\n",
    "    for train_idx, val_idx in kfold.split(X_train, y_train):\n",
    "        # Split\n",
    "        X_fold_train, y_fold_train = X_train.iloc[train_idx], y_train.iloc[train_idx]\n",
    "        X_fold_val, y_fold_val = X_train.iloc[val_idx], y_train.iloc[val_idx]\n",
    "\n",
    "        # Oversample\n",
    "        smote = SMOTE(random_state=42)\n",
    "        X_resampled, y_resampled = smote.fit_resample(X_fold_train, y_fold_train)\n",
    "\n",
    "        # Model\n",
    "        model = LogisticRegression(C=C, max_iter=1000, random_state=42)\n",
    "        model.fit(X_resampled, y_resampled)\n",
    "\n",
    "        # Predict\n",
    "        y_pred = model.predict(X_fold_val)\n",
    "        auc = roc_auc_score(y_fold_val, y_pred)\n",
    "        auc_scores.append(auc)\n",
    "\n",
    "    return np.mean(auc_scores)\n"
   ]
  },
  {
   "cell_type": "code",
   "execution_count": 23,
   "id": "66422679",
   "metadata": {},
   "outputs": [
    {
     "name": "stderr",
     "output_type": "stream",
     "text": [
      "[I 2025-05-02 15:54:51,291] Using an existing study with name 'accuracy_dataset3' instead of creating a new one.\n",
      "[I 2025-05-02 15:54:51,377] Trial 100 finished with value: 0.6107142857142858 and parameters: {'C': 0.028403007320456666}. Best is trial 12 with value: 0.6207142857142858.\n",
      "[I 2025-05-02 15:54:51,438] Trial 101 finished with value: 0.6207142857142858 and parameters: {'C': 0.07904102905948462}. Best is trial 12 with value: 0.6207142857142858.\n",
      "[I 2025-05-02 15:54:51,501] Trial 102 finished with value: 0.6207142857142858 and parameters: {'C': 0.07540472129887091}. Best is trial 12 with value: 0.6207142857142858.\n",
      "[I 2025-05-02 15:54:51,565] Trial 103 finished with value: 0.6004761904761905 and parameters: {'C': 0.11518722241725257}. Best is trial 12 with value: 0.6207142857142858.\n",
      "[I 2025-05-02 15:54:51,634] Trial 104 finished with value: 0.6207142857142858 and parameters: {'C': 0.06566170070986842}. Best is trial 12 with value: 0.6207142857142858.\n",
      "[I 2025-05-02 15:54:51,699] Trial 105 finished with value: 0.6157142857142859 and parameters: {'C': 0.09197993449245795}. Best is trial 12 with value: 0.6207142857142858.\n",
      "[I 2025-05-02 15:54:51,772] Trial 106 finished with value: 0.6157142857142859 and parameters: {'C': 0.053811940478558896}. Best is trial 12 with value: 0.6207142857142858.\n",
      "[I 2025-05-02 15:54:51,834] Trial 107 finished with value: 0.6004761904761905 and parameters: {'C': 0.1873010895863516}. Best is trial 12 with value: 0.6207142857142858.\n",
      "[I 2025-05-02 15:54:51,941] Trial 108 finished with value: 0.6157142857142859 and parameters: {'C': 0.03970780901269007}. Best is trial 12 with value: 0.6207142857142858.\n",
      "[I 2025-05-02 15:54:52,007] Trial 109 finished with value: 0.6107142857142858 and parameters: {'C': 0.03159867504374404}. Best is trial 12 with value: 0.6207142857142858.\n",
      "[I 2025-05-02 15:54:52,073] Trial 110 finished with value: 0.6157142857142859 and parameters: {'C': 0.09758259498538875}. Best is trial 12 with value: 0.6207142857142858.\n",
      "[I 2025-05-02 15:54:52,133] Trial 111 finished with value: 0.6207142857142858 and parameters: {'C': 0.07690914854435223}. Best is trial 12 with value: 0.6207142857142858.\n",
      "[I 2025-05-02 15:54:52,196] Trial 112 finished with value: 0.6207142857142858 and parameters: {'C': 0.06783846337631994}. Best is trial 12 with value: 0.6207142857142858.\n",
      "[I 2025-05-02 15:54:52,256] Trial 113 finished with value: 0.6107142857142858 and parameters: {'C': 0.048362979054952196}. Best is trial 12 with value: 0.6207142857142858.\n",
      "[I 2025-05-02 15:54:52,316] Trial 114 finished with value: 0.6004761904761905 and parameters: {'C': 0.13437661349907926}. Best is trial 12 with value: 0.6207142857142858.\n",
      "[I 2025-05-02 15:54:52,371] Trial 115 finished with value: 0.6157142857142859 and parameters: {'C': 0.08195225561521577}. Best is trial 12 with value: 0.6207142857142858.\n",
      "[I 2025-05-02 15:54:52,422] Trial 116 finished with value: 0.6157142857142859 and parameters: {'C': 0.05677764984522112}. Best is trial 12 with value: 0.6207142857142858.\n",
      "[I 2025-05-02 15:54:52,474] Trial 117 finished with value: 0.6107142857142858 and parameters: {'C': 0.044236935031564124}. Best is trial 12 with value: 0.6207142857142858.\n",
      "[I 2025-05-02 15:54:52,526] Trial 118 finished with value: 0.5957142857142858 and parameters: {'C': 0.1079110104446925}. Best is trial 12 with value: 0.6207142857142858.\n",
      "[I 2025-05-02 15:54:52,580] Trial 119 finished with value: 0.6004761904761905 and parameters: {'C': 0.15546535699398661}. Best is trial 12 with value: 0.6207142857142858.\n",
      "[I 2025-05-02 15:54:52,631] Trial 120 finished with value: 0.6207142857142858 and parameters: {'C': 0.06698383820178788}. Best is trial 12 with value: 0.6207142857142858.\n",
      "[I 2025-05-02 15:54:52,683] Trial 121 finished with value: 0.6207142857142858 and parameters: {'C': 0.06731303874618487}. Best is trial 12 with value: 0.6207142857142858.\n",
      "[I 2025-05-02 15:54:52,815] Trial 122 finished with value: 0.6207142857142858 and parameters: {'C': 0.0778703352119802}. Best is trial 12 with value: 0.6207142857142858.\n",
      "[I 2025-05-02 15:54:52,868] Trial 123 finished with value: 0.6157142857142859 and parameters: {'C': 0.09502010647726356}. Best is trial 12 with value: 0.6207142857142858.\n",
      "[I 2025-05-02 15:54:52,919] Trial 124 finished with value: 0.6157142857142859 and parameters: {'C': 0.055907469318696126}. Best is trial 12 with value: 0.6207142857142858.\n",
      "[I 2025-05-02 15:54:52,970] Trial 125 finished with value: 0.6107142857142858 and parameters: {'C': 0.03469452067156038}. Best is trial 12 with value: 0.6207142857142858.\n",
      "[I 2025-05-02 15:54:53,027] Trial 126 finished with value: 0.6004761904761905 and parameters: {'C': 0.12087233520889788}. Best is trial 12 with value: 0.6207142857142858.\n",
      "[I 2025-05-02 15:54:53,082] Trial 127 finished with value: 0.6107142857142858 and parameters: {'C': 0.04354399776971398}. Best is trial 12 with value: 0.6207142857142858.\n",
      "[I 2025-05-02 15:54:53,135] Trial 128 finished with value: 0.6207142857142858 and parameters: {'C': 0.07456790365225095}. Best is trial 12 with value: 0.6207142857142858.\n",
      "[I 2025-05-02 15:54:53,190] Trial 129 finished with value: 0.6157142857142859 and parameters: {'C': 0.09205811600940918}. Best is trial 12 with value: 0.6207142857142858.\n",
      "[I 2025-05-02 15:54:53,244] Trial 130 finished with value: 0.6207142857142858 and parameters: {'C': 0.05871873842192803}. Best is trial 12 with value: 0.6207142857142858.\n",
      "[I 2025-05-02 15:54:53,300] Trial 131 finished with value: 0.6207142857142858 and parameters: {'C': 0.06010941917117666}. Best is trial 12 with value: 0.6207142857142858.\n",
      "[I 2025-05-02 15:54:53,350] Trial 132 finished with value: 0.6107142857142858 and parameters: {'C': 0.0504117350327825}. Best is trial 12 with value: 0.6207142857142858.\n",
      "[I 2025-05-02 15:54:53,402] Trial 133 finished with value: 0.6207142857142858 and parameters: {'C': 0.07118304706363938}. Best is trial 12 with value: 0.6207142857142858.\n",
      "[I 2025-05-02 15:54:53,455] Trial 134 finished with value: 0.6004761904761905 and parameters: {'C': 0.11236485280180722}. Best is trial 12 with value: 0.6207142857142858.\n",
      "[I 2025-05-02 15:54:53,503] Trial 135 finished with value: 0.5707142857142857 and parameters: {'C': 0.0019666667849270875}. Best is trial 12 with value: 0.6207142857142858.\n",
      "[I 2025-05-02 15:54:53,553] Trial 136 finished with value: 0.6157142857142859 and parameters: {'C': 0.03817298381427688}. Best is trial 12 with value: 0.6207142857142858.\n",
      "[I 2025-05-02 15:54:53,606] Trial 137 finished with value: 0.6107142857142858 and parameters: {'C': 0.023616941134040902}. Best is trial 12 with value: 0.6207142857142858.\n",
      "[I 2025-05-02 15:54:53,661] Trial 138 finished with value: 0.6157142857142859 and parameters: {'C': 0.08627092773312385}. Best is trial 12 with value: 0.6207142857142858.\n",
      "[I 2025-05-02 15:54:53,716] Trial 139 finished with value: 0.6207142857142858 and parameters: {'C': 0.06030989779787045}. Best is trial 12 with value: 0.6207142857142858.\n",
      "[I 2025-05-02 15:54:53,774] Trial 140 finished with value: 0.6107142857142858 and parameters: {'C': 0.0465191701915555}. Best is trial 12 with value: 0.6207142857142858.\n",
      "[I 2025-05-02 15:54:53,856] Trial 141 finished with value: 0.6207142857142858 and parameters: {'C': 0.061904766650341156}. Best is trial 12 with value: 0.6207142857142858.\n",
      "[I 2025-05-02 15:54:53,911] Trial 142 finished with value: 0.6207142857142858 and parameters: {'C': 0.07632202353773376}. Best is trial 12 with value: 0.6207142857142858.\n",
      "[I 2025-05-02 15:54:53,966] Trial 143 finished with value: 0.6157142857142859 and parameters: {'C': 0.1029801005585373}. Best is trial 12 with value: 0.6207142857142858.\n",
      "[I 2025-05-02 15:54:54,020] Trial 144 finished with value: 0.6157142857142859 and parameters: {'C': 0.054800841662358574}. Best is trial 12 with value: 0.6207142857142858.\n",
      "[I 2025-05-02 15:54:54,082] Trial 145 finished with value: 0.6004761904761905 and parameters: {'C': 0.13247864832493342}. Best is trial 12 with value: 0.6207142857142858.\n",
      "[I 2025-05-02 15:54:54,139] Trial 146 finished with value: 0.6107142857142858 and parameters: {'C': 0.029662393974361}. Best is trial 12 with value: 0.6207142857142858.\n",
      "[I 2025-05-02 15:54:54,192] Trial 147 finished with value: 0.6157142857142859 and parameters: {'C': 0.03847514987082132}. Best is trial 12 with value: 0.6207142857142858.\n",
      "[I 2025-05-02 15:54:54,244] Trial 148 finished with value: 0.6157142857142859 and parameters: {'C': 0.0866947666138039}. Best is trial 12 with value: 0.6207142857142858.\n",
      "[I 2025-05-02 15:54:54,303] Trial 149 finished with value: 0.6207142857142858 and parameters: {'C': 0.06548443287153395}. Best is trial 12 with value: 0.6207142857142858.\n"
     ]
    },
    {
     "name": "stdout",
     "output_type": "stream",
     "text": [
      "Best ROC AUC: 0.6207142857142858\n",
      "Best Parameters: {'C': 0.06415279349625574}\n"
     ]
    }
   ],
   "source": [
    "warnings.filterwarnings(\"ignore\", category=FutureWarning)\n",
    "study_name = \"accuracy_dataset3\"\n",
    "storage_name = f\"sqlite:///../optuna_database/{study_name}.db\"\n",
    "\n",
    "study = optuna.create_study(\n",
    "    study_name=study_name,\n",
    "    direction=\"maximize\",\n",
    "    storage=storage_name,\n",
    "    load_if_exists=True\n",
    ")\n",
    "study.optimize(objective, n_trials=50)\n",
    "\n",
    "print(\"Best ROC AUC:\", study.best_value)\n",
    "print(\"Best Parameters:\", study.best_params)"
   ]
  },
  {
   "cell_type": "markdown",
   "id": "ef1bde83",
   "metadata": {},
   "source": [
    "### After tuning with Optuna, we got a significant increase to 0.62. To further improve ROC AUC scores let's try feature engineering"
   ]
  },
  {
   "cell_type": "code",
   "execution_count": null,
   "id": "7302c934",
   "metadata": {},
   "outputs": [
    {
     "name": "stdout",
     "output_type": "stream",
     "text": [
      "Test Set Evaluation:\n",
      "Accuracy: 0.6129032258064516\n",
      "ROC AUC: 0.6076923076923078\n",
      "Log Loss: 0.573794863562109\n",
      "Classification Report:\n",
      "               precision    recall  f1-score   support\n",
      "\n",
      "           0       0.89      0.62      0.73        26\n",
      "           1       0.23      0.60      0.33         5\n",
      "\n",
      "    accuracy                           0.61        31\n",
      "   macro avg       0.56      0.61      0.53        31\n",
      "weighted avg       0.78      0.61      0.66        31\n",
      "\n"
     ]
    }
   ],
   "source": [
    "# age and smoking\n",
    "X_train['age_smoke'] = X_train['age'] * X_train['smoking']\n",
    "X_test['age_smoke'] = X_test['age'] * X_test['smoking']\n",
    "\n",
    "# diabetes and blood glucose\n",
    "X_train['diabetes_glucose'] = X_train['diabetes'] * X_train['blood_glucose_random']\n",
    "X_test['diabetes_glucose'] = X_test['diabetes'] * X_test['blood_glucose_random']\n",
    "\n",
    "# hypertension and blood pressure\n",
    "X_train['hyper_bp'] = X_train['hypertension'] * X_train['blood_pressure']\n",
    "X_test['hyper_bp'] = X_test['hypertension'] * X_test['blood_pressure']\n",
    "\n",
    "# age and family history\n",
    "X_train['age_family'] = X_train['age'] * X_train['family_history']\n",
    "X_test['age_family'] = X_test['age'] * X_test['family_history']\n",
    "\n",
    "# cholesterol and exercise angina\n",
    "X_train['chol_angina'] = X_train['cholestorl'] * X_train['exercise_angina']\n",
    "X_test['chol_angina'] = X_test['cholestorl'] * X_test['exercise_angina']\n",
    "\n",
    "\n",
    "smote = SMOTE(random_state=42)\n",
    "X_resampled, y_resampled = smote.fit_resample(X_train, y_train)\n",
    "\n",
    "model = LogisticRegression(C=0.06415279349625574, max_iter=1000, random_state=42)\n",
    "model.fit(X_resampled, y_resampled)\n",
    "\n",
    "y_pred = model.predict(X_test)\n",
    "y_probs = model.predict_proba(X_test)[:, 1]\n",
    "\n",
    "print(\"Test Set Evaluation:\")\n",
    "print(\"Accuracy:\", accuracy_score(y_test, y_pred))\n",
    "print(\"ROC AUC:\", roc_auc_score(y_test, y_pred))\n",
    "print(\"Log Loss:\", log_loss(y_test, y_probs))\n",
    "print(\"Classification Report:\\n\", classification_report(y_test, y_pred))"
   ]
  },
  {
   "cell_type": "code",
   "execution_count": 31,
   "id": "28f27d11",
   "metadata": {},
   "outputs": [],
   "source": [
    "def objective(trial):\n",
    "    # 🔧 Tune regularization strength (log scale)\n",
    "    C = trial.suggest_float(\"C\", 1e-3, 10, log=True)\n",
    "\n",
    "    kf = StratifiedKFold(n_splits=5, shuffle=True, random_state=42)\n",
    "    auc_scores = []\n",
    "\n",
    "    for train_idx, val_idx in kf.split(X_train, y_train):\n",
    "        X_fold_train = X_train.iloc[train_idx].copy()\n",
    "        y_fold_train = y_train.iloc[train_idx].copy()\n",
    "        X_fold_val = X_train.iloc[val_idx].copy()\n",
    "        y_fold_val = y_train.iloc[val_idx].copy()\n",
    "\n",
    "        # Recreate interaction features inside each fold\n",
    "        X_fold_train['age_smoke'] = X_fold_train['age'] * X_fold_train['smoking']\n",
    "        X_fold_train['diabetes_glucose'] = X_fold_train['diabetes'] * X_fold_train['blood_glucose_random']\n",
    "        X_fold_train['hyper_bp'] = X_fold_train['hypertension'] * X_fold_train['blood_pressure']\n",
    "        X_fold_train['age_family'] = X_fold_train['age'] * X_fold_train['family_history']\n",
    "        X_fold_train['chol_angina'] = X_fold_train['cholestorl'] * X_fold_train['exercise_angina']\n",
    "\n",
    "        X_fold_val['age_smoke'] = X_fold_val['age'] * X_fold_val['smoking']\n",
    "        X_fold_val['diabetes_glucose'] = X_fold_val['diabetes'] * X_fold_val['blood_glucose_random']\n",
    "        X_fold_val['hyper_bp'] = X_fold_val['hypertension'] * X_fold_val['blood_pressure']\n",
    "        X_fold_val['age_family'] = X_fold_val['age'] * X_fold_val['family_history']\n",
    "        X_fold_val['chol_angina'] = X_fold_val['cholestorl'] * X_fold_val['exercise_angina']\n",
    "\n",
    "        # Apply SMOTE to balanced training fold\n",
    "        smote = SMOTE(random_state=42)\n",
    "        X_resampled, y_resampled = smote.fit_resample(X_fold_train, y_fold_train)\n",
    "\n",
    "        # Train model\n",
    "        model = LogisticRegression(C=C, max_iter=1000, random_state=42)\n",
    "        model.fit(X_resampled, y_resampled)\n",
    "\n",
    "        # Evaluate on validation fold\n",
    "        y_pred = model.predict(X_fold_val)\n",
    "        auc = roc_auc_score(y_fold_val, y_pred)\n",
    "        auc_scores.append(auc)\n",
    "\n",
    "    return np.mean(auc_scores)"
   ]
  },
  {
   "cell_type": "code",
   "execution_count": 32,
   "id": "96889800",
   "metadata": {},
   "outputs": [
    {
     "name": "stderr",
     "output_type": "stream",
     "text": [
      "[I 2025-05-02 16:11:03,024] A new study created in RDB with name: logreg_smote_interactions\n",
      "[I 2025-05-02 16:11:03,102] Trial 0 finished with value: 0.5957142857142858 and parameters: {'C': 0.040210239262555056}. Best is trial 0 with value: 0.5957142857142858.\n",
      "[I 2025-05-02 16:11:03,173] Trial 1 finished with value: 0.5707142857142857 and parameters: {'C': 0.0496977795266348}. Best is trial 0 with value: 0.5957142857142858.\n",
      "[I 2025-05-02 16:11:03,234] Trial 2 finished with value: 0.5804761904761906 and parameters: {'C': 0.16795096030701176}. Best is trial 0 with value: 0.5957142857142858.\n",
      "[I 2025-05-02 16:11:03,290] Trial 3 finished with value: 0.5709523809523809 and parameters: {'C': 0.003954775639528052}. Best is trial 0 with value: 0.5957142857142858.\n",
      "[I 2025-05-02 16:11:03,367] Trial 4 finished with value: 0.6004761904761905 and parameters: {'C': 0.3306933267612637}. Best is trial 4 with value: 0.6004761904761905.\n",
      "[I 2025-05-02 16:11:03,446] Trial 5 finished with value: 0.5804761904761906 and parameters: {'C': 0.2706819653764284}. Best is trial 4 with value: 0.6004761904761905.\n",
      "[I 2025-05-02 16:11:03,520] Trial 6 finished with value: 0.5857142857142857 and parameters: {'C': 0.024005870835079636}. Best is trial 4 with value: 0.6004761904761905.\n",
      "[I 2025-05-02 16:11:03,669] Trial 7 finished with value: 0.5157142857142858 and parameters: {'C': 9.42600368066942}. Best is trial 4 with value: 0.6004761904761905.\n",
      "[I 2025-05-02 16:11:03,749] Trial 8 finished with value: 0.5959523809523809 and parameters: {'C': 0.003218568488508598}. Best is trial 4 with value: 0.6004761904761905.\n",
      "[I 2025-05-02 16:11:03,825] Trial 9 finished with value: 0.5804761904761906 and parameters: {'C': 0.27797930076003785}. Best is trial 4 with value: 0.6004761904761905.\n",
      "[I 2025-05-02 16:11:03,907] Trial 10 finished with value: 0.5257142857142858 and parameters: {'C': 2.9676541186549397}. Best is trial 4 with value: 0.6004761904761905.\n",
      "[I 2025-05-02 16:11:03,978] Trial 11 finished with value: 0.5807142857142857 and parameters: {'C': 0.001592297863898844}. Best is trial 4 with value: 0.6004761904761905.\n",
      "[I 2025-05-02 16:11:04,052] Trial 12 finished with value: 0.5757142857142858 and parameters: {'C': 1.2206823395936075}. Best is trial 4 with value: 0.6004761904761905.\n",
      "[I 2025-05-02 16:11:04,118] Trial 13 finished with value: 0.5757142857142858 and parameters: {'C': 0.00785006832752731}. Best is trial 4 with value: 0.6004761904761905.\n",
      "[I 2025-05-02 16:11:04,195] Trial 14 finished with value: 0.5957142857142858 and parameters: {'C': 0.8400273534894401}. Best is trial 4 with value: 0.6004761904761905.\n",
      "[I 2025-05-02 16:11:04,268] Trial 15 finished with value: 0.5757142857142858 and parameters: {'C': 0.011065019298178418}. Best is trial 4 with value: 0.6004761904761905.\n",
      "[I 2025-05-02 16:11:04,349] Trial 16 finished with value: 0.5807142857142857 and parameters: {'C': 0.0016208719998809943}. Best is trial 4 with value: 0.6004761904761905.\n",
      "[I 2025-05-02 16:11:04,423] Trial 17 finished with value: 0.6004761904761905 and parameters: {'C': 0.11597587246645213}. Best is trial 4 with value: 0.6004761904761905.\n",
      "[I 2025-05-02 16:11:04,491] Trial 18 finished with value: 0.6007142857142858 and parameters: {'C': 0.6533295716735373}. Best is trial 18 with value: 0.6007142857142858.\n",
      "[I 2025-05-02 16:11:04,562] Trial 19 finished with value: 0.5957142857142858 and parameters: {'C': 0.8992952433898291}. Best is trial 18 with value: 0.6007142857142858.\n",
      "[I 2025-05-02 16:11:04,636] Trial 20 finished with value: 0.5257142857142858 and parameters: {'C': 3.158983291800046}. Best is trial 18 with value: 0.6007142857142858.\n",
      "[I 2025-05-02 16:11:04,701] Trial 21 finished with value: 0.5957142857142858 and parameters: {'C': 0.0926941787960054}. Best is trial 18 with value: 0.6007142857142858.\n",
      "[I 2025-05-02 16:11:04,767] Trial 22 finished with value: 0.6004761904761905 and parameters: {'C': 0.4450072940522147}. Best is trial 18 with value: 0.6007142857142858.\n",
      "[I 2025-05-02 16:11:04,825] Trial 23 finished with value: 0.5957142857142858 and parameters: {'C': 0.10124397227772453}. Best is trial 18 with value: 0.6007142857142858.\n",
      "[I 2025-05-02 16:11:04,889] Trial 24 finished with value: 0.6007142857142858 and parameters: {'C': 0.6213106618393718}. Best is trial 18 with value: 0.6007142857142858.\n",
      "[I 2025-05-02 16:11:04,956] Trial 25 finished with value: 0.5507142857142858 and parameters: {'C': 2.608845086377319}. Best is trial 18 with value: 0.6007142857142858.\n",
      "[I 2025-05-02 16:11:05,020] Trial 26 finished with value: 0.6004761904761905 and parameters: {'C': 0.48323691417196574}. Best is trial 18 with value: 0.6007142857142858.\n",
      "[I 2025-05-02 16:11:05,086] Trial 27 finished with value: 0.5507142857142858 and parameters: {'C': 1.5929608595375382}. Best is trial 18 with value: 0.6007142857142858.\n",
      "[I 2025-05-02 16:11:05,151] Trial 28 finished with value: 0.6004761904761905 and parameters: {'C': 0.49283168359197077}. Best is trial 18 with value: 0.6007142857142858.\n",
      "[I 2025-05-02 16:11:05,228] Trial 29 finished with value: 0.5207142857142857 and parameters: {'C': 7.890670736276869}. Best is trial 18 with value: 0.6007142857142858.\n",
      "[I 2025-05-02 16:11:05,284] Trial 30 finished with value: 0.5707142857142857 and parameters: {'C': 0.05762343348051354}. Best is trial 18 with value: 0.6007142857142858.\n",
      "[I 2025-05-02 16:11:05,343] Trial 31 finished with value: 0.5804761904761906 and parameters: {'C': 0.15947187693708426}. Best is trial 18 with value: 0.6007142857142858.\n",
      "[I 2025-05-02 16:11:05,403] Trial 32 finished with value: 0.5804761904761906 and parameters: {'C': 0.24445212234672187}. Best is trial 18 with value: 0.6007142857142858.\n",
      "[I 2025-05-02 16:11:05,458] Trial 33 finished with value: 0.5907142857142859 and parameters: {'C': 0.0312623304624435}. Best is trial 18 with value: 0.6007142857142858.\n",
      "[I 2025-05-02 16:11:05,518] Trial 34 finished with value: 0.5957142857142858 and parameters: {'C': 0.09311486843531352}. Best is trial 18 with value: 0.6007142857142858.\n",
      "[I 2025-05-02 16:11:05,580] Trial 35 finished with value: 0.6007142857142858 and parameters: {'C': 0.7221109920147785}. Best is trial 18 with value: 0.6007142857142858.\n",
      "[I 2025-05-02 16:11:05,643] Trial 36 finished with value: 0.5957142857142858 and parameters: {'C': 0.6103651853423042}. Best is trial 18 with value: 0.6007142857142858.\n",
      "[I 2025-05-02 16:11:05,707] Trial 37 finished with value: 0.5507142857142858 and parameters: {'C': 1.875256998782781}. Best is trial 18 with value: 0.6007142857142858.\n",
      "[I 2025-05-02 16:11:05,781] Trial 38 finished with value: 0.5207142857142857 and parameters: {'C': 4.8689895122190405}. Best is trial 18 with value: 0.6007142857142858.\n",
      "[I 2025-05-02 16:11:05,849] Trial 39 finished with value: 0.6004761904761905 and parameters: {'C': 0.28151054067582293}. Best is trial 18 with value: 0.6007142857142858.\n",
      "[I 2025-05-02 16:11:05,912] Trial 40 finished with value: 0.5957142857142858 and parameters: {'C': 1.0377861222802145}. Best is trial 18 with value: 0.6007142857142858.\n",
      "[I 2025-05-02 16:11:05,971] Trial 41 finished with value: 0.5804761904761906 and parameters: {'C': 0.16708903871582653}. Best is trial 18 with value: 0.6007142857142858.\n",
      "[I 2025-05-02 16:11:06,032] Trial 42 finished with value: 0.6004761904761905 and parameters: {'C': 0.39235502567753194}. Best is trial 18 with value: 0.6007142857142858.\n",
      "[I 2025-05-02 16:11:06,097] Trial 43 finished with value: 0.6007142857142858 and parameters: {'C': 0.6556082069409057}. Best is trial 18 with value: 0.6007142857142858.\n",
      "[I 2025-05-02 16:11:06,319] Trial 44 finished with value: 0.5957142857142858 and parameters: {'C': 0.6067123606074827}. Best is trial 18 with value: 0.6007142857142858.\n",
      "[I 2025-05-02 16:11:06,383] Trial 45 finished with value: 0.5507142857142858 and parameters: {'C': 1.4616744188931237}. Best is trial 18 with value: 0.6007142857142858.\n",
      "[I 2025-05-02 16:11:06,451] Trial 46 finished with value: 0.6007142857142858 and parameters: {'C': 0.7509931137615501}. Best is trial 18 with value: 0.6007142857142858.\n",
      "[I 2025-05-02 16:11:06,518] Trial 47 finished with value: 0.6007142857142858 and parameters: {'C': 0.7745581095532892}. Best is trial 18 with value: 0.6007142857142858.\n",
      "[I 2025-05-02 16:11:06,611] Trial 48 finished with value: 0.5207142857142857 and parameters: {'C': 5.365907623462774}. Best is trial 18 with value: 0.6007142857142858.\n",
      "[I 2025-05-02 16:11:06,682] Trial 49 finished with value: 0.5507142857142858 and parameters: {'C': 2.2779492325282322}. Best is trial 18 with value: 0.6007142857142858.\n"
     ]
    },
    {
     "name": "stdout",
     "output_type": "stream",
     "text": [
      "Best ROC AUC: 0.6007142857142858\n",
      "Best Parameters: {'C': 0.6533295716735373}\n"
     ]
    }
   ],
   "source": [
    "study_name = \"logreg_smote_interactions\"\n",
    "storage_name = f\"sqlite:///../optuna_database/{study_name}.db\"\n",
    "\n",
    "study = optuna.create_study(\n",
    "    study_name=study_name,\n",
    "    direction=\"maximize\",\n",
    "    storage=storage_name,\n",
    "    load_if_exists=True\n",
    ")\n",
    "study.optimize(objective, n_trials=50)\n",
    "\n",
    "print(\"Best ROC AUC:\", study.best_value)\n",
    "print(\"Best Parameters:\", study.best_params)"
   ]
  },
  {
   "cell_type": "markdown",
   "id": "48a0c67b",
   "metadata": {},
   "source": [
    "### Try model with l1 penalty"
   ]
  },
  {
   "cell_type": "code",
   "execution_count": null,
   "id": "b3fabbef",
   "metadata": {},
   "outputs": [
    {
     "name": "stdout",
     "output_type": "stream",
     "text": [
      "Selected 28 features out of 56\n",
      "L1 Test Evaluation:\n",
      "Accuracy: 0.6774193548387096\n",
      "ROC AUC: 0.726923076923077\n",
      "Log Loss: 0.8431390202035934\n",
      "Classification Report:\n",
      "               precision    recall  f1-score   support\n",
      "\n",
      "           0       0.94      0.65      0.77        26\n",
      "           1       0.31      0.80      0.44         5\n",
      "\n",
      "    accuracy                           0.68        31\n",
      "   macro avg       0.63      0.73      0.61        31\n",
      "weighted avg       0.84      0.68      0.72        31\n",
      "\n"
     ]
    },
    {
     "name": "stderr",
     "output_type": "stream",
     "text": [
      "/Users/jamesvu/.pyenv/versions/3.9.2/lib/python3.9/site-packages/sklearn/utils/validation.py:2732: UserWarning:\n",
      "\n",
      "X has feature names, but SelectFromModel was fitted without feature names\n",
      "\n",
      "/Users/jamesvu/.pyenv/versions/3.9.2/lib/python3.9/site-packages/sklearn/utils/validation.py:2732: UserWarning:\n",
      "\n",
      "X has feature names, but SelectFromModel was fitted without feature names\n",
      "\n"
     ]
    }
   ],
   "source": [
    "# SMOTE again (same as before)\n",
    "smote = SMOTE(random_state=42)\n",
    "X_resampled, y_resampled = smote.fit_resample(X_train, y_train)\n",
    "\n",
    "# L1 Logistic Regression model for feature selection\n",
    "l1_model = LogisticRegression(\n",
    "    C=0.6533,  # use best C from Optuna or re-tune for L1 if needed\n",
    "    penalty='l1',\n",
    "    solver='liblinear',\n",
    "    max_iter=1000,\n",
    "    random_state=42\n",
    ")\n",
    "\n",
    "# Fit the model\n",
    "l1_model.fit(X_resampled, y_resampled)\n",
    "\n",
    "# Select important features\n",
    "selector = SelectFromModel(l1_model, prefit=True)\n",
    "X_train_l1 = selector.transform(X_train)\n",
    "X_test_l1 = selector.transform(X_test)\n",
    "\n",
    "print(f\"Selected {X_train_l1.shape[1]} features out of {X_train.shape[1]}\")\n",
    "\n",
    "model = LogisticRegression(\n",
    "    C=0.6533,\n",
    "    penalty='l1',\n",
    "    solver='liblinear',\n",
    "    max_iter=1000,\n",
    "    random_state=42\n",
    ")\n",
    "\n",
    "# Train again on the reduced feature set\n",
    "smote = SMOTE(random_state=42)\n",
    "X_res_l1, y_res_l1 = smote.fit_resample(X_train_l1, y_train)\n",
    "model.fit(X_res_l1, y_res_l1)\n",
    "\n",
    "# Evaluate\n",
    "y_pred = model.predict(X_test_l1)\n",
    "y_probs = model.predict_proba(X_test_l1)[:, 1]\n",
    "\n",
    "print(\"L1 Test Evaluation:\")\n",
    "print(\"Accuracy:\", accuracy_score(y_test, y_pred))\n",
    "print(\"ROC AUC:\", roc_auc_score(y_test, y_pred))\n",
    "print(\"Log Loss:\", log_loss(y_test, y_probs))\n",
    "print(\"Classification Report:\\n\", classification_report(y_test, y_pred))"
   ]
  },
  {
   "cell_type": "code",
   "execution_count": null,
   "id": "6a54c498",
   "metadata": {},
   "outputs": [],
   "source": []
  }
 ],
 "metadata": {
  "kernelspec": {
   "display_name": "Python 3 (ipykernel)",
   "language": "python",
   "name": "python3"
  },
  "language_info": {
   "codemirror_mode": {
    "name": "ipython",
    "version": 3
   },
   "file_extension": ".py",
   "mimetype": "text/x-python",
   "name": "python",
   "nbconvert_exporter": "python",
   "pygments_lexer": "ipython3",
   "version": "3.12.3"
  }
 },
 "nbformat": 4,
 "nbformat_minor": 5
}
