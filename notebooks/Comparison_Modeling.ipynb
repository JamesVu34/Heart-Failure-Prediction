{
 "cells": [
  {
   "cell_type": "code",
   "execution_count": 1,
   "id": "3867a3df-36fd-4b25-b6b8-8b9a4758e960",
   "metadata": {},
   "outputs": [],
   "source": [
    "import pandas as pd\n",
    "from sklearn.model_selection import train_test_split, StratifiedKFold\n",
    "from sklearn.linear_model import LogisticRegression\n",
    "from sklearn.metrics import classification_report, accuracy_score, roc_auc_score, log_loss\n",
    "from sklearn.ensemble import RandomForestClassifier\n",
    "from sklearn.feature_selection import SelectFromModel\n",
    "from imblearn.over_sampling import SMOTE\n",
    "import plotly.express as px\n",
    "import numpy as np\n",
    "import optuna\n",
    "import matplotlib.pyplot as plt\n",
    "import warnings \n",
    "import seaborn as sns"
   ]
  },
  {
   "cell_type": "code",
   "execution_count": 2,
   "id": "5126e999-24d1-4bb4-af9b-6d57a69b918c",
   "metadata": {},
   "outputs": [
    {
     "name": "stdout",
     "output_type": "stream",
     "text": [
      "<class 'pandas.core.frame.DataFrame'>\n",
      "RangeIndex: 918 entries, 0 to 917\n",
      "Data columns (total 12 columns):\n",
      " #   Column               Non-Null Count  Dtype  \n",
      "---  ------               --------------  -----  \n",
      " 0   age                  918 non-null    float64\n",
      " 1   sex                  918 non-null    int64  \n",
      " 2   chest_pain_type      918 non-null    int64  \n",
      " 3   resting_bp           918 non-null    float64\n",
      " 4   cholesterol          918 non-null    float64\n",
      " 5   fasting_blood_sugar  918 non-null    int64  \n",
      " 6   resting_ecg          918 non-null    int64  \n",
      " 7   max_hr               918 non-null    float64\n",
      " 8   exercise_angina      918 non-null    int64  \n",
      " 9   oldpeak              918 non-null    float64\n",
      " 10  st_slope             918 non-null    int64  \n",
      " 11  HeartDisease         918 non-null    int64  \n",
      "dtypes: float64(5), int64(7)\n",
      "memory usage: 86.2 KB\n"
     ]
    },
    {
     "data": {
      "text/html": [
       "<div>\n",
       "<style scoped>\n",
       "    .dataframe tbody tr th:only-of-type {\n",
       "        vertical-align: middle;\n",
       "    }\n",
       "\n",
       "    .dataframe tbody tr th {\n",
       "        vertical-align: top;\n",
       "    }\n",
       "\n",
       "    .dataframe thead th {\n",
       "        text-align: right;\n",
       "    }\n",
       "</style>\n",
       "<table border=\"1\" class=\"dataframe\">\n",
       "  <thead>\n",
       "    <tr style=\"text-align: right;\">\n",
       "      <th></th>\n",
       "      <th>age</th>\n",
       "      <th>sex</th>\n",
       "      <th>chest_pain_type</th>\n",
       "      <th>resting_bp</th>\n",
       "      <th>cholesterol</th>\n",
       "      <th>fasting_blood_sugar</th>\n",
       "      <th>resting_ecg</th>\n",
       "      <th>max_hr</th>\n",
       "      <th>exercise_angina</th>\n",
       "      <th>oldpeak</th>\n",
       "      <th>st_slope</th>\n",
       "      <th>HeartDisease</th>\n",
       "    </tr>\n",
       "  </thead>\n",
       "  <tbody>\n",
       "    <tr>\n",
       "      <th>0</th>\n",
       "      <td>-1.433140</td>\n",
       "      <td>1</td>\n",
       "      <td>0</td>\n",
       "      <td>0.410909</td>\n",
       "      <td>0.825070</td>\n",
       "      <td>0</td>\n",
       "      <td>0</td>\n",
       "      <td>1.382928</td>\n",
       "      <td>0</td>\n",
       "      <td>-0.832432</td>\n",
       "      <td>0</td>\n",
       "      <td>0</td>\n",
       "    </tr>\n",
       "    <tr>\n",
       "      <th>1</th>\n",
       "      <td>-0.478484</td>\n",
       "      <td>0</td>\n",
       "      <td>1</td>\n",
       "      <td>1.491752</td>\n",
       "      <td>-0.171961</td>\n",
       "      <td>0</td>\n",
       "      <td>0</td>\n",
       "      <td>0.754157</td>\n",
       "      <td>0</td>\n",
       "      <td>0.105664</td>\n",
       "      <td>1</td>\n",
       "      <td>1</td>\n",
       "    </tr>\n",
       "    <tr>\n",
       "      <th>2</th>\n",
       "      <td>-1.751359</td>\n",
       "      <td>1</td>\n",
       "      <td>0</td>\n",
       "      <td>-0.129513</td>\n",
       "      <td>0.770188</td>\n",
       "      <td>0</td>\n",
       "      <td>1</td>\n",
       "      <td>-1.525138</td>\n",
       "      <td>0</td>\n",
       "      <td>-0.832432</td>\n",
       "      <td>0</td>\n",
       "      <td>0</td>\n",
       "    </tr>\n",
       "    <tr>\n",
       "      <th>3</th>\n",
       "      <td>-0.584556</td>\n",
       "      <td>0</td>\n",
       "      <td>2</td>\n",
       "      <td>0.302825</td>\n",
       "      <td>0.139040</td>\n",
       "      <td>0</td>\n",
       "      <td>0</td>\n",
       "      <td>-1.132156</td>\n",
       "      <td>1</td>\n",
       "      <td>0.574711</td>\n",
       "      <td>1</td>\n",
       "      <td>1</td>\n",
       "    </tr>\n",
       "    <tr>\n",
       "      <th>4</th>\n",
       "      <td>0.051881</td>\n",
       "      <td>1</td>\n",
       "      <td>1</td>\n",
       "      <td>0.951331</td>\n",
       "      <td>-0.034755</td>\n",
       "      <td>0</td>\n",
       "      <td>0</td>\n",
       "      <td>-0.581981</td>\n",
       "      <td>0</td>\n",
       "      <td>-0.832432</td>\n",
       "      <td>0</td>\n",
       "      <td>0</td>\n",
       "    </tr>\n",
       "  </tbody>\n",
       "</table>\n",
       "</div>"
      ],
      "text/plain": [
       "        age  sex  chest_pain_type  resting_bp  cholesterol  \\\n",
       "0 -1.433140    1                0    0.410909     0.825070   \n",
       "1 -0.478484    0                1    1.491752    -0.171961   \n",
       "2 -1.751359    1                0   -0.129513     0.770188   \n",
       "3 -0.584556    0                2    0.302825     0.139040   \n",
       "4  0.051881    1                1    0.951331    -0.034755   \n",
       "\n",
       "   fasting_blood_sugar  resting_ecg    max_hr  exercise_angina   oldpeak  \\\n",
       "0                    0            0  1.382928                0 -0.832432   \n",
       "1                    0            0  0.754157                0  0.105664   \n",
       "2                    0            1 -1.525138                0 -0.832432   \n",
       "3                    0            0 -1.132156                1  0.574711   \n",
       "4                    0            0 -0.581981                0 -0.832432   \n",
       "\n",
       "   st_slope  HeartDisease  \n",
       "0         0             0  \n",
       "1         1             1  \n",
       "2         0             0  \n",
       "3         1             1  \n",
       "4         0             0  "
      ]
     },
     "metadata": {},
     "output_type": "display_data"
    },
    {
     "data": {
      "text/plain": [
       "(918, 12)"
      ]
     },
     "metadata": {},
     "output_type": "display_data"
    },
    {
     "data": {
      "text/plain": [
       "None"
      ]
     },
     "metadata": {},
     "output_type": "display_data"
    }
   ],
   "source": [
    "df1 = pd.read_csv('../data/processed/heart_dataset_1_processed.csv')\n",
    "df2 = pd.read_csv('../data/processed/heart_dataset_2_processed.csv')\n",
    "df3 = pd.read_csv('../data/processed/heart_dataset_3_processed.csv')\n",
    "df4 = pd.read_csv('../data/processed/heart_dataset_4_processed.csv')\n",
    "display(df1.head(), df1.shape, df1.info())"
   ]
  },
  {
   "cell_type": "code",
   "execution_count": 3,
   "id": "0efe51b1-b7af-4a6e-8542-52630ebeaa1a",
   "metadata": {},
   "outputs": [],
   "source": [
    "keys1 = df1.keys()\n",
    "keys2 = df2.keys()\n",
    "keys3 = df3.keys()\n",
    "keys4 = df4.keys()"
   ]
  },
  {
   "cell_type": "code",
   "execution_count": null,
   "id": "625b476d-0091-4d01-b8f2-555ca78354e7",
   "metadata": {},
   "outputs": [],
   "source": [
    "selected_keys1 = ['age', 'sex', 'cholesterol', 'fasting_blood_sugar', 'resting_ecg',\n",
    "       'max_hr', 'exercise_angina', 'oldpeak', 'st_slope', 'chest_pain_type_0',\n",
    "       'chest_pain_type_1', 'chest_pain_type_3']\n",
    "selected_keys2 = ['age', 'creatinine_phosphokinase', 'ejection_fraction', 'hypertension',\n",
    "       'serum_creatinine', 'serum_sodium', 'sex', 'time']\n",
    "selected_keys3 = ['age', 'white_blood_cell_count', 'chest_pain_type', 'cholestorl',\n",
    "       'oldpeak', 'ca', 'reaction']\n",
    "selected_keys4 = "
   ]
  }
 ],
 "metadata": {
  "kernelspec": {
   "display_name": "Python 3 (ipykernel)",
   "language": "python",
   "name": "python3"
  },
  "language_info": {
   "codemirror_mode": {
    "name": "ipython",
    "version": 3
   },
   "file_extension": ".py",
   "mimetype": "text/x-python",
   "name": "python",
   "nbconvert_exporter": "python",
   "pygments_lexer": "ipython3",
   "version": "3.12.3"
  }
 },
 "nbformat": 4,
 "nbformat_minor": 5
}
