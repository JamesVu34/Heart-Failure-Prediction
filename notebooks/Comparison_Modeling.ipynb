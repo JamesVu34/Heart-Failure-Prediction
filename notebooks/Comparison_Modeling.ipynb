{
 "cells": [
  {
   "cell_type": "code",
   "execution_count": 1,
   "id": "3867a3df-36fd-4b25-b6b8-8b9a4758e960",
   "metadata": {},
   "outputs": [],
   "source": [
    "import pandas as pd\n",
    "from sklearn.model_selection import train_test_split, StratifiedKFold\n",
    "from sklearn.linear_model import LogisticRegression\n",
    "from sklearn.metrics import classification_report, accuracy_score, roc_auc_score, log_loss\n",
    "from sklearn.ensemble import RandomForestClassifier\n",
    "from sklearn.feature_selection import SelectFromModel\n",
    "from imblearn.over_sampling import SMOTE\n",
    "import plotly.express as px\n",
    "import numpy as np\n",
    "import optuna\n",
    "import matplotlib.pyplot as plt\n",
    "import warnings \n",
    "import seaborn as sns"
   ]
  },
  {
   "cell_type": "markdown",
   "id": "8a95dc5f-55ce-4801-b1fb-d6cb9a91ec0b",
   "metadata": {},
   "source": [
    "### Read in data"
   ]
  },
  {
   "cell_type": "code",
   "execution_count": 2,
   "id": "5126e999-24d1-4bb4-af9b-6d57a69b918c",
   "metadata": {},
   "outputs": [
    {
     "name": "stdout",
     "output_type": "stream",
     "text": [
      "<class 'pandas.core.frame.DataFrame'>\n",
      "RangeIndex: 918 entries, 0 to 917\n",
      "Data columns (total 12 columns):\n",
      " #   Column               Non-Null Count  Dtype  \n",
      "---  ------               --------------  -----  \n",
      " 0   age                  918 non-null    float64\n",
      " 1   sex                  918 non-null    int64  \n",
      " 2   chest_pain_type      918 non-null    int64  \n",
      " 3   resting_bp           918 non-null    float64\n",
      " 4   cholesterol          918 non-null    float64\n",
      " 5   fasting_blood_sugar  918 non-null    int64  \n",
      " 6   resting_ecg          918 non-null    int64  \n",
      " 7   max_hr               918 non-null    float64\n",
      " 8   exercise_angina      918 non-null    int64  \n",
      " 9   oldpeak              918 non-null    float64\n",
      " 10  st_slope             918 non-null    int64  \n",
      " 11  HeartDisease         918 non-null    int64  \n",
      "dtypes: float64(5), int64(7)\n",
      "memory usage: 86.2 KB\n"
     ]
    },
    {
     "data": {
      "text/html": [
       "<div>\n",
       "<style scoped>\n",
       "    .dataframe tbody tr th:only-of-type {\n",
       "        vertical-align: middle;\n",
       "    }\n",
       "\n",
       "    .dataframe tbody tr th {\n",
       "        vertical-align: top;\n",
       "    }\n",
       "\n",
       "    .dataframe thead th {\n",
       "        text-align: right;\n",
       "    }\n",
       "</style>\n",
       "<table border=\"1\" class=\"dataframe\">\n",
       "  <thead>\n",
       "    <tr style=\"text-align: right;\">\n",
       "      <th></th>\n",
       "      <th>age</th>\n",
       "      <th>sex</th>\n",
       "      <th>chest_pain_type</th>\n",
       "      <th>resting_bp</th>\n",
       "      <th>cholesterol</th>\n",
       "      <th>fasting_blood_sugar</th>\n",
       "      <th>resting_ecg</th>\n",
       "      <th>max_hr</th>\n",
       "      <th>exercise_angina</th>\n",
       "      <th>oldpeak</th>\n",
       "      <th>st_slope</th>\n",
       "      <th>HeartDisease</th>\n",
       "    </tr>\n",
       "  </thead>\n",
       "  <tbody>\n",
       "    <tr>\n",
       "      <th>0</th>\n",
       "      <td>-1.433140</td>\n",
       "      <td>1</td>\n",
       "      <td>0</td>\n",
       "      <td>0.410909</td>\n",
       "      <td>0.825070</td>\n",
       "      <td>0</td>\n",
       "      <td>0</td>\n",
       "      <td>1.382928</td>\n",
       "      <td>0</td>\n",
       "      <td>-0.832432</td>\n",
       "      <td>0</td>\n",
       "      <td>0</td>\n",
       "    </tr>\n",
       "    <tr>\n",
       "      <th>1</th>\n",
       "      <td>-0.478484</td>\n",
       "      <td>0</td>\n",
       "      <td>1</td>\n",
       "      <td>1.491752</td>\n",
       "      <td>-0.171961</td>\n",
       "      <td>0</td>\n",
       "      <td>0</td>\n",
       "      <td>0.754157</td>\n",
       "      <td>0</td>\n",
       "      <td>0.105664</td>\n",
       "      <td>1</td>\n",
       "      <td>1</td>\n",
       "    </tr>\n",
       "    <tr>\n",
       "      <th>2</th>\n",
       "      <td>-1.751359</td>\n",
       "      <td>1</td>\n",
       "      <td>0</td>\n",
       "      <td>-0.129513</td>\n",
       "      <td>0.770188</td>\n",
       "      <td>0</td>\n",
       "      <td>1</td>\n",
       "      <td>-1.525138</td>\n",
       "      <td>0</td>\n",
       "      <td>-0.832432</td>\n",
       "      <td>0</td>\n",
       "      <td>0</td>\n",
       "    </tr>\n",
       "    <tr>\n",
       "      <th>3</th>\n",
       "      <td>-0.584556</td>\n",
       "      <td>0</td>\n",
       "      <td>2</td>\n",
       "      <td>0.302825</td>\n",
       "      <td>0.139040</td>\n",
       "      <td>0</td>\n",
       "      <td>0</td>\n",
       "      <td>-1.132156</td>\n",
       "      <td>1</td>\n",
       "      <td>0.574711</td>\n",
       "      <td>1</td>\n",
       "      <td>1</td>\n",
       "    </tr>\n",
       "    <tr>\n",
       "      <th>4</th>\n",
       "      <td>0.051881</td>\n",
       "      <td>1</td>\n",
       "      <td>1</td>\n",
       "      <td>0.951331</td>\n",
       "      <td>-0.034755</td>\n",
       "      <td>0</td>\n",
       "      <td>0</td>\n",
       "      <td>-0.581981</td>\n",
       "      <td>0</td>\n",
       "      <td>-0.832432</td>\n",
       "      <td>0</td>\n",
       "      <td>0</td>\n",
       "    </tr>\n",
       "  </tbody>\n",
       "</table>\n",
       "</div>"
      ],
      "text/plain": [
       "        age  sex  chest_pain_type  resting_bp  cholesterol  \\\n",
       "0 -1.433140    1                0    0.410909     0.825070   \n",
       "1 -0.478484    0                1    1.491752    -0.171961   \n",
       "2 -1.751359    1                0   -0.129513     0.770188   \n",
       "3 -0.584556    0                2    0.302825     0.139040   \n",
       "4  0.051881    1                1    0.951331    -0.034755   \n",
       "\n",
       "   fasting_blood_sugar  resting_ecg    max_hr  exercise_angina   oldpeak  \\\n",
       "0                    0            0  1.382928                0 -0.832432   \n",
       "1                    0            0  0.754157                0  0.105664   \n",
       "2                    0            1 -1.525138                0 -0.832432   \n",
       "3                    0            0 -1.132156                1  0.574711   \n",
       "4                    0            0 -0.581981                0 -0.832432   \n",
       "\n",
       "   st_slope  HeartDisease  \n",
       "0         0             0  \n",
       "1         1             1  \n",
       "2         0             0  \n",
       "3         1             1  \n",
       "4         0             0  "
      ]
     },
     "metadata": {},
     "output_type": "display_data"
    },
    {
     "data": {
      "text/plain": [
       "(918, 12)"
      ]
     },
     "metadata": {},
     "output_type": "display_data"
    },
    {
     "data": {
      "text/plain": [
       "None"
      ]
     },
     "metadata": {},
     "output_type": "display_data"
    }
   ],
   "source": [
    "df1 = pd.read_csv('../data/processed/heart_dataset_1_processed.csv')\n",
    "df2 = pd.read_csv('../data/processed/heart_dataset_2_processed.csv')\n",
    "df3 = pd.read_csv('../data/processed/heart_dataset_3_processed.csv')\n",
    "df4 = pd.read_csv('../data/processed/heart_dataset_4_processed.csv')\n",
    "display(df1.head(), df1.shape, df1.info())"
   ]
  },
  {
   "cell_type": "markdown",
   "id": "2696dd72-5355-4461-badd-778b4985e966",
   "metadata": {},
   "source": [
    "### Collect Keys for comparison"
   ]
  },
  {
   "cell_type": "code",
   "execution_count": 3,
   "id": "0efe51b1-b7af-4a6e-8542-52630ebeaa1a",
   "metadata": {},
   "outputs": [],
   "source": [
    "keys1 = df1.keys()\n",
    "keys2 = df2.keys()\n",
    "keys3 = df3.keys()\n",
    "keys4 = df4.keys()"
   ]
  },
  {
   "cell_type": "code",
   "execution_count": 4,
   "id": "625b476d-0091-4d01-b8f2-555ca78354e7",
   "metadata": {},
   "outputs": [],
   "source": [
    "selected_keys1 = ['age', 'sex', 'cholesterol', 'fasting_blood_sugar', 'resting_ecg',\n",
    "       'max_hr', 'exercise_angina', 'oldpeak', 'st_slope', 'chest_pain_type_0',\n",
    "       'chest_pain_type_1', 'chest_pain_type_3']\n",
    "selected_keys2 = ['age', 'creatinine_phosphokinase', 'ejection_fraction', 'hypertension',\n",
    "       'serum_creatinine', 'serum_sodium', 'sex', 'time']\n",
    "selected_keys3 = ['age', 'white_blood_cell_count', 'chest_pain_type', 'cholestorl',\n",
    "       'oldpeak', 'ca', 'reaction']\n",
    "selected_keys4 = ['age']"
   ]
  },
  {
   "cell_type": "markdown",
   "id": "01bd331c-c509-485d-844c-41ec1915b192",
   "metadata": {},
   "source": [
    "### Importing Performances"
   ]
  },
  {
   "cell_type": "code",
   "execution_count": 16,
   "id": "71fb333a-6a96-45c7-8296-573e691b47f9",
   "metadata": {},
   "outputs": [],
   "source": [
    "study_name = \"accuracy\"\n",
    "storage_name = f\"sqlite:///../optuna_database/{study_name}.db\"\n",
    "dataset1_history = optuna.load_study(study_name = study_name, storage=storage_name)"
   ]
  },
  {
   "cell_type": "code",
   "execution_count": 17,
   "id": "0f63020f-35e8-494b-a893-33e12a4394f9",
   "metadata": {},
   "outputs": [],
   "source": [
    "study_name = \"accuracy_dataset2\"\n",
    "storage_name = f\"sqlite:///../optuna_database/{study_name}.db\"\n",
    "dataset2_history = optuna.load_study(study_name = study_name, storage=storage_name)"
   ]
  },
  {
   "cell_type": "code",
   "execution_count": 18,
   "id": "6dea923c-9333-4ec5-9460-ae97df9fc1d8",
   "metadata": {},
   "outputs": [],
   "source": [
    "study_name = \"accuracy_dataset3\"\n",
    "storage_name = f\"sqlite:///../optuna_database/{study_name}.db\"\n",
    "dataset3_history = optuna.load_study(study_name = study_name, storage=storage_name)"
   ]
  },
  {
   "cell_type": "code",
   "execution_count": 19,
   "id": "47360f65-65cc-4220-8188-9c9bba4dc05b",
   "metadata": {},
   "outputs": [],
   "source": [
    "study_name = \"accuracy_dataset4_no_id\"\n",
    "storage_name = f\"sqlite:///../optuna_database/{study_name}.db\"\n",
    "dataset4_history = optuna.load_study(study_name = study_name, storage=storage_name)"
   ]
  },
  {
   "cell_type": "code",
   "execution_count": 20,
   "id": "ad206a63-6d99-43ba-aa78-6fd512f2e879",
   "metadata": {},
   "outputs": [],
   "source": [
    "dataset1_history = dataset1_history.trials_dataframe()\n",
    "accuracy1 = dataset1_history['value']\n",
    "C1 = dataset1_history['params_C']\n",
    "trial_number1 = dataset1_history['number']"
   ]
  },
  {
   "cell_type": "code",
   "execution_count": 21,
   "id": "5b2dac94-3981-41c7-8017-c9080d7ed22c",
   "metadata": {},
   "outputs": [],
   "source": [
    "dataset2_history = dataset2_history.trials_dataframe()\n",
    "accuracy2 = dataset2_history['value']\n",
    "C2 = dataset2_history['params_C']\n",
    "trial_number2 = dataset2_history['number']"
   ]
  },
  {
   "cell_type": "code",
   "execution_count": 22,
   "id": "61682f0a-b183-451b-9a2f-5f904cc685dc",
   "metadata": {},
   "outputs": [],
   "source": [
    "dataset3_history = dataset3_history.trials_dataframe()\n",
    "accuracy3 = dataset3_history['value']\n",
    "C3 = dataset3_history['params_C']\n",
    "trial_number3 = dataset3_history['number']"
   ]
  },
  {
   "cell_type": "code",
   "execution_count": 23,
   "id": "8aae4cf4-d414-4a13-8d2d-ed6086be9750",
   "metadata": {},
   "outputs": [],
   "source": [
    "dataset4_history = dataset4_history.trials_dataframe()\n",
    "accuracy4 = dataset4_history['value']\n",
    "C4 = dataset4_history['params_C']\n",
    "trial_number4 = dataset4_history['number']"
   ]
  },
  {
   "cell_type": "markdown",
   "id": "9f0beb2a-eb24-4bdb-a803-4cb863d89f81",
   "metadata": {},
   "source": [
    "### Separating Data"
   ]
  },
  {
   "cell_type": "code",
   "execution_count": 25,
   "id": "e0b7fb5d-a24f-47bc-9ea5-3a0ef2b8fd3d",
   "metadata": {},
   "outputs": [],
   "source": [
    "X1 = df1.drop(columns=['HeartDisease'])\n",
    "y1 = df1['HeartDisease']\n",
    "X1_train, X1_test, y1_train, y1_test = train_test_split(X1, y1, test_size=0.2, random_state=42, stratify=y1)\n",
    "\n",
    "X2 = df2.drop(columns=['HeartDisease'])\n",
    "y2 = df2['HeartDisease']\n",
    "X2_train, X2_test, y2_train, y2_test = train_test_split(X2, y2, test_size=0.2, random_state=42, stratify=y2)\n",
    "\n",
    "X3 = df3.drop(columns=['HeartDisease'])\n",
    "y3 = df3['HeartDisease']\n",
    "X3_train, X3_test, y3_train, y3_test = train_test_split(X3, y3, test_size=0.2, random_state=42, stratify=y3)\n",
    "\n",
    "X4 = df4.drop(columns=['HeartDisease','id','length_of_stay'])\n",
    "y4 = df4['HeartDisease']\n",
    "X4_train, X4_test, y4_train, y4_test = train_test_split(X4, y4, test_size=0.2, random_state=42, stratify=y4)\n",
    "keys4 = df4.drop(columns=['id','length_of_stay']).keys()"
   ]
  },
  {
   "cell_type": "code",
   "execution_count": null,
   "id": "cee6864f-19f8-4768-b2df-03dddb2273e1",
   "metadata": {},
   "outputs": [],
   "source": []
  }
 ],
 "metadata": {
  "kernelspec": {
   "display_name": "Python 3 (ipykernel)",
   "language": "python",
   "name": "python3"
  },
  "language_info": {
   "codemirror_mode": {
    "name": "ipython",
    "version": 3
   },
   "file_extension": ".py",
   "mimetype": "text/x-python",
   "name": "python",
   "nbconvert_exporter": "python",
   "pygments_lexer": "ipython3",
   "version": "3.12.3"
  }
 },
 "nbformat": 4,
 "nbformat_minor": 5
}
