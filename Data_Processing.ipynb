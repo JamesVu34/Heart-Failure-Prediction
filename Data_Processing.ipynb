{
 "cells": [
  {
   "cell_type": "code",
   "execution_count": 1,
   "id": "1fbbd4d3-0de0-448d-a033-545807660db1",
   "metadata": {},
   "outputs": [],
   "source": [
    "import sys\n",
    "import numpy as np\n",
    "import pandas as pd\n",
    "import matplotlib.pyplot as plt\n",
    "import glob"
   ]
  },
  {
   "cell_type": "code",
   "execution_count": 2,
   "id": "04ea2305-3ee0-45ac-9567-e571fd925dd2",
   "metadata": {},
   "outputs": [
    {
     "name": "stdout",
     "output_type": "stream",
     "text": [
      "['data/raw\\\\heart_dataset_1.csv', 'data/raw\\\\heart_dataset_2.csv', 'data/raw\\\\heart_dataset_3.csv', 'data/raw\\\\heart_dataset_4.csv']\n"
     ]
    }
   ],
   "source": [
    "data_raw_names = glob.glob(\"data/raw/*\")\n",
    "print(data_raw_names)"
   ]
  },
  {
   "cell_type": "code",
   "execution_count": 3,
   "id": "41eef9bf-e56f-444b-abb6-3e2a376afecc",
   "metadata": {},
   "outputs": [],
   "source": [
    "data_raw = []\n",
    "names_data_raw_fixed = []\n",
    "for i in data_raw_names:\n",
    "    data_raw.append(pd.read_csv(i))"
   ]
  },
  {
   "cell_type": "code",
   "execution_count": 4,
   "id": "020eacc4-b99b-4001-b639-501bdf84b98e",
   "metadata": {},
   "outputs": [
    {
     "name": "stdout",
     "output_type": "stream",
     "text": [
      "12 12\n"
     ]
    }
   ],
   "source": [
    "data_raw[0].columns # constant labels, age, sex, heart_disease, RestingBP/trestbps, cholesterol/chol, restecg/RestingECG, MaxHR/thalach,\n",
    "#  exang/ExerciseAngina, oldpeak, ST_Slope/slope, fasting blood sugar/fbs\n",
    "names_data_raw_fixed.append(['age','sex','chest_pain_type', 'resting_bp','cholesterol','fasting_blood_sugar','resting_ecg','max_hr','exercise_angina',\\\n",
    "                             'oldpeak','st_slope','HeartDisease'])\n",
    "print(len(data_raw[0].columns),len(names_data_raw_fixed[0]))"
   ]
  },
  {
   "cell_type": "code",
   "execution_count": 5,
   "id": "91b95db1-a826-4584-9555-6fb27cbec545",
   "metadata": {},
   "outputs": [
    {
     "name": "stdout",
     "output_type": "stream",
     "text": [
      "13 13\n"
     ]
    }
   ],
   "source": [
    "data_raw[1].columns # constant labels, age, sex, heart_disease/death_event, smoking, diabetes, high blood pressure/hypertension/HTN,serum creatinine/S.Cr\n",
    "# serum sodium/S.Sodium, creatinine phosphokinase/C.P.K., platelets/PLATELET_COUNT\n",
    "names_data_raw_fixed.append(['age','amaemia','creatinine_phosphokinase','diabetes','ejection_fraction','hypertension','platelet_count','serum_creatinine',\\\n",
    "                            'serum_sodium','sex','smoking','time','HeartDisease'])\n",
    "print(len(data_raw[1].columns),len(names_data_raw_fixed[1]))"
   ]
  },
  {
   "cell_type": "code",
   "execution_count": 6,
   "id": "6c01df67-3dd8-4588-9b53-3833322f9f38",
   "metadata": {},
   "outputs": [
    {
     "name": "stdout",
     "output_type": "stream",
     "text": [
      "60 60\n"
     ]
    }
   ],
   "source": [
    "data_raw[2].columns # constant labels, age, sex, heart_disease/death_event/mortality, smoking, diabetes, high blood pressure/hypertension/HTN, RestingBP/trestbps,\n",
    "# serum creatinine/S.Cr, serum sodium/S.Sodium, creatinine phosphokinase/C.P.K., platelets/PLATELET_COUNT, cholesterol/chol, restecg/RestingECG,\n",
    "# MaxHR/thalach, oldpeak, ST_Slope/slope, mental_health/depression, \n",
    "names_data_raw_fixed.append(['age','age_group','sex','locality','marital_status','life_style','sleep','category','depression','hyperlipi','smoking','family_history',\\\n",
    "                            'f_history','diabetes','hypertension','allergies','blood_pressure','thrombolysis','blood_glucose_random','blood_urea','serum_creatinine',\\\n",
    "                            'serum_sodium','serum_potassium','serum_chloride','creatinine_phosphokinase','creatinine_kinase','sedimentation_rate',\\\n",
    "                             'white_blood_cell_count','red_blood_cell_count','hemoglobin','packed_cell_volume','red_cell_volume','red_cell_hemoglobin',\\\n",
    "                            'red_cell_hemoglobin_concentration','platelet_count','neutrophil','lympho','monocyte','eosino','others','CO','diagnosis','hypersensitivity',\\\n",
    "                            'chest_pain_type','resting_bp','cholestorl','fasting_blood_sugar','resting_ecg','max_hr','exercise_angina','oldpeak','st_slope','ca',\\\n",
    "                            'thalassemia','heart_disease_severity','streptokinase_therapy','streptokinase_reaction','reaction','HeartDisease','follow_up'])\n",
    "print(len(data_raw[2].columns),len(names_data_raw_fixed[2]))"
   ]
  },
  {
   "cell_type": "code",
   "execution_count": 7,
   "id": "1103f200-d549-4b22-8bab-113a915f5c5c",
   "metadata": {},
   "outputs": [
    {
     "name": "stdout",
     "output_type": "stream",
     "text": [
      "Index(['id', 'death', 'los', 'age', 'gender', 'cancer', 'cabg', 'crt', 'defib',\n",
      "       'dementia', 'diabetes', 'hypertension', 'ihd', 'mental_health',\n",
      "       'arrhythmias', 'copd', 'obesity', 'pvd', 'renal_disease',\n",
      "       'valvular_disease', 'metastatic_cancer', 'pacemaker', 'pneumonia',\n",
      "       'prior_appts_attended', 'prior_dnas', 'pci', 'stroke', 'senile',\n",
      "       'quintile', 'ethnicgroup', 'fu_time'],\n",
      "      dtype='object')\n",
      "31 31\n"
     ]
    }
   ],
   "source": [
    "print(data_raw[3].columns) # death, age, sex, diabetes, hypertension/HTN, mental_health/depression?\n",
    "names_data_raw_fixed.append(['id','HeartDisease','length_of_stay','age','sex','cancer','coronary_arterty_bypass_grafting',\\\n",
    "                             'cardiac_resynchronization_therapy','implantable_defibrillator','dementia','diabetes','hypertension','ischemic_heart_disease',\\\n",
    "                            'depression','arrythmias','chronic_obstructive_pulmonary_disease','obesity','peripheral_vascular_disease','renal_disease',\\\n",
    "                            'valvular_disease','metastatic_cancer','pacemaker','pneumonia','prior_appts_attended','prior_diagnosis',\\\n",
    "                            'percutaneous_coronary_intervention','stroke','senile','quintile','ethnic_group','follow_up_time'])\n",
    "print(len(data_raw[3].columns),len(names_data_raw_fixed[3]))"
   ]
  },
  {
   "cell_type": "code",
   "execution_count": 23,
   "id": "a739bd71-1a78-466c-b740-f5814131034a",
   "metadata": {},
   "outputs": [],
   "source": [
    "overlap = []\n",
    "overlap_index = []\n",
    "for i,array in enumerate(names_data_raw_fixed):\n",
    "    independent = []\n",
    "    independent_index = []\n",
    "    for j,array_sub in enumerate(names_data_raw_fixed):\n",
    "        \n",
    "        if(j!=i):\n",
    "            count = 0\n",
    "            for k,word in enumerate(array):\n",
    "                if word in array_sub:\n",
    "                    count+=1\n",
    "            independent.append(count)\n",
    "            independent_index.append(j)\n",
    "    overlap.append(independent)\n",
    "    overlap_index.append(independent_index)"
   ]
  },
  {
   "cell_type": "code",
   "execution_count": 25,
   "id": "f740eea1-9ff5-46f0-bf35-da7a3fb2531d",
   "metadata": {},
   "outputs": [
    {
     "name": "stdout",
     "output_type": "stream",
     "text": [
      "dataset 1's (size 12) number of overlaps with dataset [1, 2, 3]: [3, 11, 3]\n",
      "dataset 2's (size 13) number of overlaps with dataset [0, 2, 3]: [3, 10, 5]\n",
      "dataset 3's (size 60) number of overlaps with dataset [0, 1, 3]: [11, 10, 6]\n",
      "dataset 4's (size 31) number of overlaps with dataset [0, 1, 2]: [3, 5, 6]\n"
     ]
    }
   ],
   "source": [
    "count = 1\n",
    "for i,j in zip(overlap,overlap_index):\n",
    "    print(f\"dataset {count}'s (size {len(names_data_raw_fixed[count-1])}) number of overlaps with dataset {j}: {i}\")\n",
    "    count+=1"
   ]
  },
  {
   "cell_type": "code",
   "execution_count": null,
   "id": "abf252f1-7a7d-4838-ac09-e762de565a95",
   "metadata": {},
   "outputs": [],
   "source": [
    "print(overlap)"
   ]
  }
 ],
 "metadata": {
  "kernelspec": {
   "display_name": "Python 3 (ipykernel)",
   "language": "python",
   "name": "python3"
  },
  "language_info": {
   "codemirror_mode": {
    "name": "ipython",
    "version": 3
   },
   "file_extension": ".py",
   "mimetype": "text/x-python",
   "name": "python",
   "nbconvert_exporter": "python",
   "pygments_lexer": "ipython3",
   "version": "3.12.3"
  }
 },
 "nbformat": 4,
 "nbformat_minor": 5
}
